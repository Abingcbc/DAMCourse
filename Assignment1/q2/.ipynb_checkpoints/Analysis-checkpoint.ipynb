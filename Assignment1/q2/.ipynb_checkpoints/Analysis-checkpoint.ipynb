{
 "cells": [
  {
   "cell_type": "code",
   "execution_count": 1,
   "metadata": {},
   "outputs": [],
   "source": [
    "import json\n",
    "import numpy as np\n",
    "import pandas as pd\n",
    "import csv"
   ]
  },
  {
   "cell_type": "code",
   "execution_count": 2,
   "metadata": {},
   "outputs": [],
   "source": [
    "with open(\"/Users/cbc/Desktop/homework/DataMining/business_163665.json\", \"r\") as business_file:\n",
    "    business_list = json.load(business_file)"
   ]
  },
  {
   "cell_type": "markdown",
   "metadata": {},
   "source": [
    "* longitude\n",
    "* hours 7\n",
    "* categories\n",
    "* stars\n",
    "* latitude\n",
    "* review_count\n",
    "* attributes 39\n",
    "* is_open"
   ]
  },
  {
   "cell_type": "code",
   "execution_count": 3,
   "metadata": {},
   "outputs": [],
   "source": [
    "id_list = []\n",
    "longitude_list = []\n",
    "latitude_list = []\n",
    "hours_list = []\n",
    "categories_list = []\n",
    "stars_list = []\n",
    "review_count_list = []\n",
    "attributes_list = []\n",
    "is_open_list = []\n",
    "for key, value in business_list.items():\n",
    "    id_list.append(key)\n",
    "    longitude_list.append(value['longitude'])\n",
    "    latitude_list.append(value['latitude'])\n",
    "    hours_list.append(value['hours'])\n",
    "    categories_list.append(value['categories'])\n",
    "    stars_list.append(value['stars'])\n",
    "    review_count_list.append(value['review_count'])\n",
    "    attributes_list.append(value['attributes'])\n",
    "    is_open_list.append(value['is_open'])"
   ]
  },
  {
   "cell_type": "code",
   "execution_count": 4,
   "metadata": {},
   "outputs": [],
   "source": [
    "business_data = np.array([id_list,longitude_list,latitude_list,hours_list,categories_list,\n",
    "                                    stars_list,review_count_list,attributes_list,is_open_list]).transpose()\n",
    "business_table = pd.DataFrame(data=business_data, \n",
    "                                    columns=['id', 'longitude', 'latitude', 'hours', 'categories', \n",
    "                                             'stars','review_count', 'attributes', 'is_open'])"
   ]
  },
  {
   "cell_type": "code",
   "execution_count": 5,
   "metadata": {},
   "outputs": [],
   "source": [
    "day = business_table['hours']"
   ]
  },
  {
   "cell_type": "code",
   "execution_count": 6,
   "metadata": {},
   "outputs": [],
   "source": [
    "business_table.drop(columns='hours', inplace=True)"
   ]
  },
  {
   "cell_type": "code",
   "execution_count": 7,
   "metadata": {},
   "outputs": [],
   "source": [
    "week_key = [\"Monday\", 'Tuesday', 'Wednesday', 'Thursday', 'Friday', 'Saturday', 'Sunday']\n",
    "column_key = ['Monday_o', 'Monday_c', \n",
    "            'Tuesday_o', 'Tuesday_c',\n",
    "            'Wednesday_o', 'Wednesday_c',\n",
    "            'Thursday_o', 'Thursday_c',\n",
    "            'Friday_o', 'Friday_c',\n",
    "            'Saturday_o', 'Saturday_c',\n",
    "            'Sunday_o', 'Sunday_c']"
   ]
  },
  {
   "cell_type": "code",
   "execution_count": 8,
   "metadata": {},
   "outputs": [],
   "source": [
    "week = pd.DataFrame(columns=column_key)\n",
    "for i in range(200):\n",
    "    week.loc[i, 'Monday_o'] = np.nan\n",
    "    for j in range(len(week_key)):\n",
    "        if week_key[j] in day[i]:\n",
    "            split_pos = day[i][week_key[j]].index('-')\n",
    "            date = day[i][week_key[j]][0:split_pos]\n",
    "            week.loc[i, column_key[2*j]] = int(date[0:date.index(':')]) + int(date[date.index(':')+1:])/60\n",
    "            # 24:00 is displayed as 0:00\n",
    "            date = day[i][week_key[j]][split_pos+1:]\n",
    "            if day[i][week_key[j]][split_pos+1] == '0':\n",
    "                week.loc[i, column_key[2*j+1]] = 24 + int(date[date.index(':')+1:])/60\n",
    "            else:\n",
    "                week.loc[i, column_key[2*j+1]] = int(date[0:date.index(':')]) + int(date[date.index(':')+1:])/60\n",
    "save_table = pd.concat([business_table[0:200], week], axis=1)\n",
    "save_table.to_csv(\"/Users/cbc/Project/PycharmProjects/DataMiningAssignment1/q2/business_table.csv\")"
   ]
  },
  {
   "cell_type": "code",
   "execution_count": 9,
   "metadata": {},
   "outputs": [],
   "source": [
    "def write_file(start, over):\n",
    "    week = pd.DataFrame(columns=column_key)\n",
    "    for i in range(start, over):\n",
    "        week.loc[i, 'Monday_o'] = np.nan\n",
    "        for j in range(len(week_key)):\n",
    "            if week_key[j] in day[i]:\n",
    "                split_pos = day[i][week_key[j]].index('-')\n",
    "                date = day[i][week_key[j]][0:split_pos]\n",
    "                week.loc[i, column_key[2*j]] = int(date[0:date.index(':')]) + int(date[date.index(':')+1:])/60\n",
    "                # 24:00 is displayed as 0:00\n",
    "                date = day[i][week_key[j]][split_pos+1:]\n",
    "                if day[i][week_key[j]][split_pos+1] == '0':\n",
    "                    week.loc[i, column_key[2*j+1]] = 24 + int(date[date.index(':')+1:])/60\n",
    "                else:\n",
    "                    week.loc[i, column_key[2*j+1]] = int(date[0:date.index(':')]) + int(date[date.index(':')+1:])/60\n",
    "    return week"
   ]
  },
  {
   "cell_type": "code",
   "execution_count": null,
   "metadata": {},
   "outputs": [
    {
     "name": "stdout",
     "output_type": "stream",
     "text": [
      "2000\n",
      "4000\n",
      "6000\n"
     ]
    }
   ],
   "source": [
    "for i in range(400, len(business_table), 200):\n",
    "    if i%2000 == 0:\n",
    "        print(i)\n",
    "    week = write_file(i-200, i)\n",
    "    save_table = pd.concat([business_table[i-200:i], week], axis=1)\n",
    "    save_table.to_csv(\"/Users/cbc/Project/PycharmProjects/DataMiningAssignment1/q2/business_table.csv\", mode='a', header=False)"
   ]
  },
  {
   "cell_type": "code",
   "execution_count": null,
   "metadata": {},
   "outputs": [],
   "source": []
  }
 ],
 "metadata": {
  "kernelspec": {
   "display_name": "Python 3",
   "language": "python",
   "name": "python3"
  },
  "language_info": {
   "codemirror_mode": {
    "name": "ipython",
    "version": 3
   },
   "file_extension": ".py",
   "mimetype": "text/x-python",
   "name": "python",
   "nbconvert_exporter": "python",
   "pygments_lexer": "ipython3",
   "version": "3.7.2"
  }
 },
 "nbformat": 4,
 "nbformat_minor": 2
}
