{
 "cells": [
  {
   "cell_type": "code",
   "execution_count": 1,
   "metadata": {},
   "outputs": [],
   "source": [
    "import numpy as np\n",
    "import pandas as pd\n",
    "from mlxtend.classifier import StackingCVClassifier\n",
    "from sklearn.linear_model import LogisticRegression\n",
    "from sklearn.svm import SVC\n",
    "from sklearn.ensemble import RandomForestClassifier\n",
    "from sklearn import metrics\n",
    "from sklearn.pipeline import Pipeline\n",
    "from sklearn.neural_network import MLPClassifier\n",
    "from sklearn.preprocessing import MinMaxScaler\n",
    "from sklearn.preprocessing import StandardScaler\n",
    "import warnings\n",
    "warnings.filterwarnings('ignore')"
   ]
  },
  {
   "cell_type": "code",
   "execution_count": 2,
   "metadata": {},
   "outputs": [],
   "source": [
    "with open(\"data/train.csv\") as file:\n",
    "    train = pd.read_csv(file)\n",
    "with open(\"data/valid.csv\") as valid_file:\n",
    "    valid = pd.read_csv(valid_file)\n",
    "with open(\"data/test.csv\") as test_file:\n",
    "    test = pd.read_csv(test_file)\n",
    "with open(\"data/aver_review.csv\") as file:\n",
    "    words_count = pd.read_csv(file)\n",
    "with open(\"data/aver_figure.csv\") as file:\n",
    "    figuration = pd.read_csv(file)\n",
    "with open(\"data/username_feature.csv\") as username_file:\n",
    "    username = pd.read_csv(username_file)\n",
    "with open(\"data/review_feature.csv\") as review_file:\n",
    "    review = pd.read_csv(review_file)\n",
    "with open(\"data/sentiment.csv\") as sentiment_file:\n",
    "    sentiment = pd.read_csv(sentiment_file)\n",
    "with open(\"data/avatar_feature.csv\") as avatar_file:\n",
    "    avatar = pd.read_csv(avatar_file)"
   ]
  },
  {
   "cell_type": "code",
   "execution_count": 3,
   "metadata": {},
   "outputs": [],
   "source": [
    "del train['Unnamed: 0']\n",
    "del valid['Unnamed: 0']\n",
    "del test['Unnamed: 0']\n",
    "del words_count['Unnamed: 0']\n",
    "del figuration['Unnamed: 0']\n",
    "del username['Unnamed: 0']\n",
    "del review['Unnamed: 0']\n",
    "del sentiment['Unnamed: 0']\n",
    "del avatar['Unnamed: 0']"
   ]
  },
  {
   "cell_type": "code",
   "execution_count": 4,
   "metadata": {},
   "outputs": [
    {
     "data": {
      "text/plain": [
       "5905"
      ]
     },
     "execution_count": 4,
     "metadata": {},
     "output_type": "execute_result"
    }
   ],
   "source": [
    "X_train_df = pd.merge(words_count,train,on=\"user_id\",how=\"inner\")\n",
    "X_train_df = pd.merge(figuration,X_train_df,on=\"user_id\",how=\"inner\")\n",
    "X_train_df = pd.merge(username,X_train_df,on='user_id',how='inner')\n",
    "X_train_df = pd.merge(review,X_train_df,on='user_id',how='inner')\n",
    "X_train_df = pd.merge(sentiment,X_train_df,on='user_id',how='inner')\n",
    "X_train_df = pd.merge(avatar,X_train_df,on='user_id',how='inner')\n",
    "X_train_df.dropna(inplace=True)\n",
    "len(X_train_df)"
   ]
  },
  {
   "cell_type": "code",
   "execution_count": 5,
   "metadata": {},
   "outputs": [
    {
     "data": {
      "text/plain": [
       "1914"
      ]
     },
     "execution_count": 5,
     "metadata": {},
     "output_type": "execute_result"
    }
   ],
   "source": [
    "X_valid_df = pd.merge(words_count,valid,on=\"user_id\",how=\"inner\")\n",
    "X_valid_df = pd.merge(figuration,X_valid_df,on=\"user_id\",how=\"inner\")\n",
    "X_valid_df = pd.merge(username,X_valid_df,on='user_id',how='inner')\n",
    "X_valid_df = pd.merge(review,X_valid_df,on='user_id',how='inner')\n",
    "X_valid_df = pd.merge(sentiment,X_valid_df,on='user_id',how='inner')\n",
    "X_valid_df = pd.merge(avatar,X_valid_df,on='user_id',how='inner')\n",
    "X_valid_df.dropna(inplace=True)\n",
    "len(X_valid_df)"
   ]
  },
  {
   "cell_type": "code",
   "execution_count": 6,
   "metadata": {},
   "outputs": [
    {
     "data": {
      "text/plain": [
       "1943"
      ]
     },
     "execution_count": 6,
     "metadata": {},
     "output_type": "execute_result"
    }
   ],
   "source": [
    "X_test_df = pd.merge(words_count,test,on=\"user_id\",how=\"inner\")\n",
    "X_test_df = pd.merge(figuration,X_test_df,on=\"user_id\",how=\"inner\")\n",
    "X_test_df = pd.merge(username,X_test_df,on='user_id',how='inner')\n",
    "X_test_df = pd.merge(review,X_test_df,on='user_id',how='inner')\n",
    "X_test_df = pd.merge(sentiment,X_test_df,on='user_id',how='inner')\n",
    "X_test_df = pd.merge(avatar,X_test_df,on='user_id',how='inner')\n",
    "X_test_df.dropna(inplace=True)\n",
    "len(X_test_df)"
   ]
  },
  {
   "cell_type": "code",
   "execution_count": 7,
   "metadata": {},
   "outputs": [],
   "source": [
    "X_train = X_train_df.iloc[:,1:-1].as_matrix().astype(np.float)\n",
    "y_train = X_train_df['gender'].as_matrix().astype(np.float)\n",
    "X_valid = X_valid_df.iloc[:,1:-1].as_matrix().astype(np.float)\n",
    "y_valid = X_valid_df['gender'].as_matrix().astype(np.float)\n",
    "X_test = X_test_df.iloc[:,1:-1].as_matrix().astype(np.float)\n",
    "y_test = X_test_df['gender'].as_matrix().astype(np.float)"
   ]
  },
  {
   "cell_type": "code",
   "execution_count": 8,
   "metadata": {},
   "outputs": [],
   "source": [
    "X_train_valid = np.concatenate([X_train,X_valid],axis=0)\n",
    "y_train_valid = np.concatenate([y_train,y_valid],axis=0)"
   ]
  },
  {
   "cell_type": "code",
   "execution_count": 9,
   "metadata": {},
   "outputs": [],
   "source": [
    "def train_and_evaluate(clf, X_train, X_test, y_train, y_test):\n",
    "    clf.fit(X_train, y_train)\n",
    "    \n",
    "    y_pred1 = clf.predict(X_test)\n",
    "    \n",
    "    print(\"Scores on test dataset\")\n",
    "    print(\"Accuracy: \" + str(metrics.accuracy_score(y_test,y_pred1))) \n",
    "    print(\"Precision: \" + str(metrics.precision_score(y_test, y_pred1)))\n",
    "    print(\"Recall: \" + str(metrics.recall_score(y_test, y_pred1)))\n",
    "    print(\"F1: \" + str(metrics.f1_score(y_test,y_pred1)))\n",
    "    \n",
    "    y_pred2 = clf.predict(X_train)\n",
    "    \n",
    "    print(\"Scores on train dataset\")\n",
    "    print(\"Accuracy: \" + str(metrics.accuracy_score(y_train,y_pred2)))\n",
    "    print(\"Precision: \" + str(metrics.precision_score(y_train, y_pred2)))\n",
    "    print(\"Recall: \" + str(metrics.recall_score(y_train, y_pred2)))\n",
    "    print(\"F1: \" + str(metrics.f1_score(y_train,y_pred2)))\n",
    "    \n",
    "    return y_pred1"
   ]
  },
  {
   "cell_type": "code",
   "execution_count": 10,
   "metadata": {},
   "outputs": [],
   "source": [
    "lr = LogisticRegression()"
   ]
  },
  {
   "cell_type": "code",
   "execution_count": 11,
   "metadata": {},
   "outputs": [],
   "source": [
    "clf1 = Pipeline([\n",
    "    (\"min_max scalar\", MinMaxScaler(feature_range=(0.0,1.0))),\n",
    "    (\"lg\", LogisticRegression())\n",
    "])\n",
    "clf2 = Pipeline([\n",
    "    (\"min_max scalar\", MinMaxScaler(feature_range=(0.0,1.0))),\n",
    "    (\"lg\", LogisticRegression())\n",
    "])\n",
    "clf3 = Pipeline([\n",
    "    (\"min_max scalar\", MinMaxScaler(feature_range=(0.0,1.0))),\n",
    "    (\"lg\", LogisticRegression())\n",
    "])\n",
    "clf4 = Pipeline([\n",
    "    (\"min_max scalar\", MinMaxScaler(feature_range=(0.0,1.0))),\n",
    "    (\"lg\", LogisticRegression())\n",
    "])\n",
    "sclf = StackingCVClassifier(classifiers=[clf1,clf2,clf3,clf4],meta_classifier=lr)"
   ]
  },
  {
   "cell_type": "code",
   "execution_count": 12,
   "metadata": {},
   "outputs": [
    {
     "name": "stdout",
     "output_type": "stream",
     "text": [
      "Scores on test dataset\n",
      "Accuracy: 0.8172928461142563\n",
      "Precision: 0.8580060422960725\n",
      "Recall: 0.922077922077922\n",
      "F1: 0.888888888888889\n",
      "Scores on train dataset\n",
      "Accuracy: 0.9045913799718635\n",
      "Precision: 0.906054598139393\n",
      "Recall: 0.9785867237687366\n",
      "F1: 0.9409249287298067\n"
     ]
    }
   ],
   "source": [
    "y_lr = train_and_evaluate(clf1,X_train_valid,X_test,y_train_valid,y_test)"
   ]
  },
  {
   "cell_type": "code",
   "execution_count": 13,
   "metadata": {},
   "outputs": [
    {
     "name": "stdout",
     "output_type": "stream",
     "text": [
      "Scores on test dataset\n",
      "Accuracy: 0.8172928461142563\n",
      "Precision: 0.8580060422960725\n",
      "Recall: 0.922077922077922\n",
      "F1: 0.888888888888889\n",
      "Scores on train dataset\n",
      "Accuracy: 0.9045913799718635\n",
      "Precision: 0.906054598139393\n",
      "Recall: 0.9785867237687366\n",
      "F1: 0.9409249287298067\n"
     ]
    }
   ],
   "source": [
    "y_lrs = train_and_evaluate(sclf,X_train_valid,X_test,y_train_valid,y_test)"
   ]
  },
  {
   "cell_type": "code",
   "execution_count": 14,
   "metadata": {},
   "outputs": [],
   "source": [
    "clf1 = Pipeline([\n",
    "    (\"min_max scalar\", MinMaxScaler(feature_range=(0.0,1.0))),\n",
    "    (\"svm\", SVC(kernel='linear'))\n",
    "])\n",
    "clf2 = Pipeline([\n",
    "    (\"min_max scalar\", MinMaxScaler(feature_range=(0.0,1.0))),\n",
    "    (\"svm\", SVC(kernel='linear'))\n",
    "])\n",
    "clf3 = Pipeline([\n",
    "    (\"min_max scalar\", MinMaxScaler(feature_range=(0.0,1.0))),\n",
    "    (\"svm\", SVC(kernel='linear'))\n",
    "])\n",
    "clf4 = Pipeline([\n",
    "    (\"min_max scalar\", MinMaxScaler(feature_range=(0.0,1.0))),\n",
    "    (\"svm\", SVC(kernel='linear'))\n",
    "])\n",
    "sclf = StackingCVClassifier(classifiers=[clf1,clf2,clf3,clf4],meta_classifier=lr)"
   ]
  },
  {
   "cell_type": "code",
   "execution_count": 15,
   "metadata": {},
   "outputs": [
    {
     "name": "stdout",
     "output_type": "stream",
     "text": [
      "Scores on test dataset\n",
      "Accuracy: 0.8064848172928462\n",
      "Precision: 0.8619402985074627\n",
      "Recall: 0.9\n",
      "F1: 0.8805590851334181\n",
      "Scores on train dataset\n",
      "Accuracy: 0.928251694590101\n",
      "Precision: 0.932224662692187\n",
      "Recall: 0.9787514412782079\n",
      "F1: 0.9549216552832464\n"
     ]
    }
   ],
   "source": [
    "y_svm = train_and_evaluate(clf1,X_train_valid,X_test,y_train_valid,y_test)"
   ]
  },
  {
   "cell_type": "code",
   "execution_count": 16,
   "metadata": {},
   "outputs": [
    {
     "name": "stdout",
     "output_type": "stream",
     "text": [
      "Scores on test dataset\n",
      "Accuracy: 0.8064848172928462\n",
      "Precision: 0.8619402985074627\n",
      "Recall: 0.9\n",
      "F1: 0.8805590851334181\n",
      "Scores on train dataset\n",
      "Accuracy: 0.928251694590101\n",
      "Precision: 0.932224662692187\n",
      "Recall: 0.9787514412782079\n",
      "F1: 0.9549216552832464\n"
     ]
    }
   ],
   "source": [
    "y_svms = train_and_evaluate(sclf,X_train_valid,X_test,y_train_valid,y_test)"
   ]
  },
  {
   "cell_type": "code",
   "execution_count": 17,
   "metadata": {},
   "outputs": [],
   "source": [
    "clf1 = Pipeline([\n",
    "    (\"min_max scalar\", MinMaxScaler(feature_range=(0.0,1.0))),\n",
    "    (\"rf\", RandomForestClassifier())\n",
    "])\n",
    "clf2 = Pipeline([\n",
    "    (\"min_max scalar\", MinMaxScaler(feature_range=(0.0,1.0))),\n",
    "    (\"rf\", RandomForestClassifier())\n",
    "])\n",
    "clf3 = Pipeline([\n",
    "    (\"min_max scalar\", MinMaxScaler(feature_range=(0.0,1.0))),\n",
    "    (\"rf\", RandomForestClassifier())\n",
    "])\n",
    "clf4 = Pipeline([\n",
    "    (\"min_max scalar\", MinMaxScaler(feature_range=(0.0,1.0))),\n",
    "    (\"rf\", RandomForestClassifier())\n",
    "])\n",
    "sclf = StackingCVClassifier(classifiers=[clf1,clf2,clf3,clf4],meta_classifier=lr)"
   ]
  },
  {
   "cell_type": "code",
   "execution_count": 18,
   "metadata": {},
   "outputs": [
    {
     "name": "stdout",
     "output_type": "stream",
     "text": [
      "Scores on test dataset\n",
      "Accuracy: 0.7925887802367473\n",
      "Precision: 0.8338226658837345\n",
      "Recall: 0.922077922077922\n",
      "F1: 0.875732346592661\n",
      "Scores on train dataset\n",
      "Accuracy: 0.9929658524107943\n",
      "Precision: 0.9923076923076923\n",
      "Recall: 0.99868225992423\n",
      "F1: 0.995484771365241\n"
     ]
    }
   ],
   "source": [
    "y_rf = train_and_evaluate(clf1,X_train_valid,X_test,y_train_valid,y_test)"
   ]
  },
  {
   "cell_type": "code",
   "execution_count": 19,
   "metadata": {},
   "outputs": [
    {
     "name": "stdout",
     "output_type": "stream",
     "text": [
      "Scores on test dataset\n",
      "Accuracy: 0.8023674729799279\n",
      "Precision: 0.8239910313901345\n",
      "Recall: 0.9545454545454546\n",
      "F1: 0.884476534296029\n",
      "Scores on train dataset\n",
      "Accuracy: 0.9989768512597519\n",
      "Precision: 0.9988481158466348\n",
      "Recall: 0.9998352824905288\n",
      "F1: 0.9993414553836023\n"
     ]
    }
   ],
   "source": [
    "y_rfs = train_and_evaluate(sclf,X_train_valid,X_test,y_train_valid,y_test)"
   ]
  },
  {
   "cell_type": "code",
   "execution_count": 20,
   "metadata": {},
   "outputs": [],
   "source": [
    "clf1 = Pipeline([\n",
    "    (\"min_max scalar\", MinMaxScaler(feature_range=(0.0,1.0))),\n",
    "    (\"lg\", LogisticRegression())\n",
    "])\n",
    "clf2 = Pipeline([\n",
    "    (\"min_max scalar\", MinMaxScaler(feature_range=(0.0,1.0))),\n",
    "    (\"svm\", SVC(kernel='linear'))\n",
    "])\n",
    "clf3 = Pipeline([\n",
    "    (\"min_max scalar\", MinMaxScaler(feature_range=(0.0,1.0))),\n",
    "    (\"rf\", RandomForestClassifier())\n",
    "])\n",
    "sclf = StackingCVClassifier(classifiers=[clf1,clf2,clf3,clf4],meta_classifier=lr)"
   ]
  },
  {
   "cell_type": "code",
   "execution_count": 21,
   "metadata": {},
   "outputs": [
    {
     "name": "stdout",
     "output_type": "stream",
     "text": [
      "Scores on test dataset\n",
      "Accuracy: 0.8172928461142563\n",
      "Precision: 0.8554289142171566\n",
      "Recall: 0.925974025974026\n",
      "F1: 0.8893046460866855\n",
      "Scores on train dataset\n",
      "Accuracy: 0.9345184806241207\n",
      "Precision: 0.9342290267145759\n",
      "Recall: 0.9850107066381156\n",
      "F1: 0.9589480436177036\n"
     ]
    }
   ],
   "source": [
    "y_all = train_and_evaluate(sclf,X_train_valid,X_test,y_train_valid,y_test)"
   ]
  },
  {
   "cell_type": "code",
   "execution_count": 22,
   "metadata": {},
   "outputs": [
    {
     "data": {
      "text/plain": [
       "array([[-0.82405994, -0.16533907, -0.51306932, ..., -0.84354992,\n",
       "        -0.45781153, -0.86915348],\n",
       "       [-0.82405994, -0.16533907, -0.51306932, ..., -0.84354992,\n",
       "        -0.45781153, -0.86915348],\n",
       "       [ 1.31564625, -0.16533907,  2.09181401, ...,  0.1059498 ,\n",
       "        -0.19982644,  0.40349684],\n",
       "       ...,\n",
       "       [ 1.2960928 , -0.16533907,  1.92244036, ..., -0.38993019,\n",
       "        -0.37960935,  0.10022698],\n",
       "       [-0.82405994, -0.16533907, -0.51306932, ...,  0.39230255,\n",
       "         0.73782388,  0.43599004],\n",
       "       [ 1.18138191, -0.16533907, -0.51306932, ...,  0.92151924,\n",
       "         2.75601791, -0.95038648]])"
      ]
     },
     "execution_count": 22,
     "metadata": {},
     "output_type": "execute_result"
    }
   ],
   "source": [
    "standard = StandardScaler()\n",
    "standard.fit_transform(X_train)\n",
    "standard.fit_transform(X_test)\n",
    "standard.fit_transform(X_valid)"
   ]
  },
  {
   "cell_type": "code",
   "execution_count": 23,
   "metadata": {},
   "outputs": [
    {
     "name": "stdout",
     "output_type": "stream",
     "text": [
      "Scores on test dataset\n",
      "Accuracy: 0.8353062274832733\n",
      "Precision: 0.8530092592592593\n",
      "Recall: 0.9571428571428572\n",
      "F1: 0.9020807833537333\n",
      "Scores on train dataset\n",
      "Accuracy: 0.86507225987978\n",
      "Precision: 0.8646408839779005\n",
      "Recall: 0.9795750288255641\n",
      "F1: 0.9185265271449533\n"
     ]
    }
   ],
   "source": [
    "clf = MLPClassifier(hidden_layer_sizes=[100,10,10],max_iter=1000,random_state=33,alpha=1)\n",
    "y_nn = train_and_evaluate(clf,X_train_valid,X_test,y_train_valid,y_test)"
   ]
  },
  {
   "cell_type": "code",
   "execution_count": 24,
   "metadata": {},
   "outputs": [],
   "source": [
    "result = pd.DataFrame({'user_id':X_test_df['user_id'],'lr_label':y_lr,'lrs_label':y_lrs,'svm_label':y_svm,\n",
    "                      'svms_label':y_svms,'rf_label':y_rf,'rfs_label':y_rfs,'mix_label':y_all,'nn_label':y_nn,\n",
    "                      'true_label':y_test})\n",
    "result.to_csv('result_all_feature.csv')"
   ]
  }
 ],
 "metadata": {
  "kernelspec": {
   "display_name": "Python 3",
   "language": "python",
   "name": "python3"
  },
  "language_info": {
   "codemirror_mode": {
    "name": "ipython",
    "version": 3
   },
   "file_extension": ".py",
   "mimetype": "text/x-python",
   "name": "python",
   "nbconvert_exporter": "python",
   "pygments_lexer": "ipython3",
   "version": "3.7.3"
  }
 },
 "nbformat": 4,
 "nbformat_minor": 2
}
