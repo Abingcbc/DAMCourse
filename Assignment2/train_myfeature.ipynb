{
 "cells": [
  {
   "cell_type": "code",
   "execution_count": 1,
   "metadata": {},
   "outputs": [],
   "source": [
    "import numpy as np\n",
    "import pandas as pd\n",
    "from mlxtend.classifier import StackingCVClassifier\n",
    "from sklearn.linear_model import LogisticRegression\n",
    "from sklearn.svm import SVC\n",
    "from sklearn.ensemble import RandomForestClassifier\n",
    "from sklearn import metrics\n",
    "from sklearn.pipeline import Pipeline\n",
    "from sklearn.preprocessing import MinMaxScaler\n",
    "from sklearn.preprocessing import StandardScaler\n",
    "from sklearn.neural_network import MLPClassifier\n",
    "import warnings\n",
    "warnings.filterwarnings('ignore')"
   ]
  },
  {
   "cell_type": "code",
   "execution_count": 2,
   "metadata": {},
   "outputs": [],
   "source": [
    "with open(\"data/train.csv\") as train_file:\n",
    "    train = pd.read_csv(train_file)\n",
    "with open(\"data/valid.csv\") as valid_file:\n",
    "    valid = pd.read_csv(valid_file)\n",
    "with open(\"data/test.csv\") as test_file:\n",
    "    test = pd.read_csv(test_file)\n",
    "with open(\"data/username_feature.csv\") as username_file:\n",
    "    username = pd.read_csv(username_file)\n",
    "with open(\"data/review_feature.csv\") as review_file:\n",
    "    review = pd.read_csv(review_file)\n",
    "with open(\"data/sentiment.csv\") as sentiment_file:\n",
    "    sentiment = pd.read_csv(sentiment_file)\n",
    "with open(\"data/avatar_feature.csv\") as avatar_file:\n",
    "    avatar = pd.read_csv(avatar_file)"
   ]
  },
  {
   "cell_type": "code",
   "execution_count": 3,
   "metadata": {},
   "outputs": [],
   "source": [
    "del train['Unnamed: 0']\n",
    "del test['Unnamed: 0']\n",
    "del valid['Unnamed: 0']\n",
    "del username['Unnamed: 0']\n",
    "del review['Unnamed: 0']\n",
    "del sentiment['Unnamed: 0']\n",
    "del avatar['Unnamed: 0']"
   ]
  },
  {
   "cell_type": "code",
   "execution_count": 4,
   "metadata": {},
   "outputs": [
    {
     "data": {
      "text/html": [
       "<div>\n",
       "<style scoped>\n",
       "    .dataframe tbody tr th:only-of-type {\n",
       "        vertical-align: middle;\n",
       "    }\n",
       "\n",
       "    .dataframe tbody tr th {\n",
       "        vertical-align: top;\n",
       "    }\n",
       "\n",
       "    .dataframe thead th {\n",
       "        text-align: right;\n",
       "    }\n",
       "</style>\n",
       "<table border=\"1\" class=\"dataframe\">\n",
       "  <thead>\n",
       "    <tr style=\"text-align: right;\">\n",
       "      <th></th>\n",
       "      <th>user_id</th>\n",
       "      <th>gender</th>\n",
       "    </tr>\n",
       "  </thead>\n",
       "  <tbody>\n",
       "    <tr>\n",
       "      <th>0</th>\n",
       "      <td>3899123</td>\n",
       "      <td>1</td>\n",
       "    </tr>\n",
       "    <tr>\n",
       "      <th>1</th>\n",
       "      <td>925660559</td>\n",
       "      <td>1</td>\n",
       "    </tr>\n",
       "    <tr>\n",
       "      <th>2</th>\n",
       "      <td>4365275</td>\n",
       "      <td>1</td>\n",
       "    </tr>\n",
       "    <tr>\n",
       "      <th>3</th>\n",
       "      <td>7937454</td>\n",
       "      <td>1</td>\n",
       "    </tr>\n",
       "    <tr>\n",
       "      <th>4</th>\n",
       "      <td>141082488</td>\n",
       "      <td>1</td>\n",
       "    </tr>\n",
       "  </tbody>\n",
       "</table>\n",
       "</div>"
      ],
      "text/plain": [
       "     user_id  gender\n",
       "0    3899123       1\n",
       "1  925660559       1\n",
       "2    4365275       1\n",
       "3    7937454       1\n",
       "4  141082488       1"
      ]
     },
     "execution_count": 4,
     "metadata": {},
     "output_type": "execute_result"
    }
   ],
   "source": [
    "train.head()"
   ]
  },
  {
   "cell_type": "code",
   "execution_count": 5,
   "metadata": {},
   "outputs": [
    {
     "data": {
      "text/html": [
       "<div>\n",
       "<style scoped>\n",
       "    .dataframe tbody tr th:only-of-type {\n",
       "        vertical-align: middle;\n",
       "    }\n",
       "\n",
       "    .dataframe tbody tr th {\n",
       "        vertical-align: top;\n",
       "    }\n",
       "\n",
       "    .dataframe thead th {\n",
       "        text-align: right;\n",
       "    }\n",
       "</style>\n",
       "<table border=\"1\" class=\"dataframe\">\n",
       "  <thead>\n",
       "    <tr style=\"text-align: right;\">\n",
       "      <th></th>\n",
       "      <th>user_id</th>\n",
       "      <th>gender</th>\n",
       "    </tr>\n",
       "  </thead>\n",
       "  <tbody>\n",
       "    <tr>\n",
       "      <th>0</th>\n",
       "      <td>14132908</td>\n",
       "      <td>1</td>\n",
       "    </tr>\n",
       "    <tr>\n",
       "      <th>1</th>\n",
       "      <td>13843840</td>\n",
       "      <td>1</td>\n",
       "    </tr>\n",
       "    <tr>\n",
       "      <th>2</th>\n",
       "      <td>6228345</td>\n",
       "      <td>1</td>\n",
       "    </tr>\n",
       "    <tr>\n",
       "      <th>3</th>\n",
       "      <td>4639982</td>\n",
       "      <td>1</td>\n",
       "    </tr>\n",
       "    <tr>\n",
       "      <th>4</th>\n",
       "      <td>767439249</td>\n",
       "      <td>0</td>\n",
       "    </tr>\n",
       "  </tbody>\n",
       "</table>\n",
       "</div>"
      ],
      "text/plain": [
       "     user_id  gender\n",
       "0   14132908       1\n",
       "1   13843840       1\n",
       "2    6228345       1\n",
       "3    4639982       1\n",
       "4  767439249       0"
      ]
     },
     "execution_count": 5,
     "metadata": {},
     "output_type": "execute_result"
    }
   ],
   "source": [
    "valid.head()"
   ]
  },
  {
   "cell_type": "code",
   "execution_count": 6,
   "metadata": {},
   "outputs": [
    {
     "data": {
      "text/html": [
       "<div>\n",
       "<style scoped>\n",
       "    .dataframe tbody tr th:only-of-type {\n",
       "        vertical-align: middle;\n",
       "    }\n",
       "\n",
       "    .dataframe tbody tr th {\n",
       "        vertical-align: top;\n",
       "    }\n",
       "\n",
       "    .dataframe thead th {\n",
       "        text-align: right;\n",
       "    }\n",
       "</style>\n",
       "<table border=\"1\" class=\"dataframe\">\n",
       "  <thead>\n",
       "    <tr style=\"text-align: right;\">\n",
       "      <th></th>\n",
       "      <th>user_id</th>\n",
       "      <th>gender</th>\n",
       "    </tr>\n",
       "  </thead>\n",
       "  <tbody>\n",
       "    <tr>\n",
       "      <th>0</th>\n",
       "      <td>22928025</td>\n",
       "      <td>1</td>\n",
       "    </tr>\n",
       "    <tr>\n",
       "      <th>1</th>\n",
       "      <td>1110808</td>\n",
       "      <td>1</td>\n",
       "    </tr>\n",
       "    <tr>\n",
       "      <th>2</th>\n",
       "      <td>36161565</td>\n",
       "      <td>0</td>\n",
       "    </tr>\n",
       "    <tr>\n",
       "      <th>3</th>\n",
       "      <td>3827369</td>\n",
       "      <td>1</td>\n",
       "    </tr>\n",
       "    <tr>\n",
       "      <th>4</th>\n",
       "      <td>25928221</td>\n",
       "      <td>0</td>\n",
       "    </tr>\n",
       "  </tbody>\n",
       "</table>\n",
       "</div>"
      ],
      "text/plain": [
       "    user_id  gender\n",
       "0  22928025       1\n",
       "1   1110808       1\n",
       "2  36161565       0\n",
       "3   3827369       1\n",
       "4  25928221       0"
      ]
     },
     "execution_count": 6,
     "metadata": {},
     "output_type": "execute_result"
    }
   ],
   "source": [
    "test.head()"
   ]
  },
  {
   "cell_type": "code",
   "execution_count": 7,
   "metadata": {},
   "outputs": [
    {
     "data": {
      "text/plain": [
       "5905"
      ]
     },
     "execution_count": 7,
     "metadata": {},
     "output_type": "execute_result"
    }
   ],
   "source": [
    "X_train_df = pd.merge(username,train,on='user_id',how='inner')\n",
    "X_train_df = pd.merge(review,X_train_df,on='user_id',how='inner')\n",
    "X_train_df = pd.merge(sentiment,X_train_df,on='user_id',how='inner')\n",
    "X_train_df = pd.merge(avatar,X_train_df,on='user_id',how='inner')\n",
    "X_train_df.dropna(inplace=True)\n",
    "len(X_train_df)"
   ]
  },
  {
   "cell_type": "code",
   "execution_count": 8,
   "metadata": {},
   "outputs": [
    {
     "data": {
      "text/plain": [
       "1914"
      ]
     },
     "execution_count": 8,
     "metadata": {},
     "output_type": "execute_result"
    }
   ],
   "source": [
    "X_valid_df = pd.merge(username,valid,on='user_id',how='inner')\n",
    "X_valid_df = pd.merge(review,X_valid_df,on='user_id',how='inner')\n",
    "X_valid_df = pd.merge(sentiment,X_valid_df,on='user_id',how='inner')\n",
    "X_valid_df = pd.merge(avatar,X_valid_df,on='user_id',how='inner')\n",
    "X_valid_df.dropna(inplace=True)\n",
    "len(X_valid_df)"
   ]
  },
  {
   "cell_type": "code",
   "execution_count": 9,
   "metadata": {},
   "outputs": [
    {
     "data": {
      "text/plain": [
       "1943"
      ]
     },
     "execution_count": 9,
     "metadata": {},
     "output_type": "execute_result"
    }
   ],
   "source": [
    "X_test_df = pd.merge(username,test,on='user_id',how='inner')\n",
    "X_test_df = pd.merge(review,X_test_df,on='user_id',how='inner')\n",
    "X_test_df = pd.merge(sentiment,X_test_df,on='user_id',how='inner')\n",
    "X_test_df = pd.merge(avatar,X_test_df,on='user_id',how='inner')\n",
    "X_test_df.dropna(inplace=True)\n",
    "len(X_test_df)"
   ]
  },
  {
   "cell_type": "code",
   "execution_count": 10,
   "metadata": {},
   "outputs": [],
   "source": [
    "X_train = X_train_df.iloc[:,1:-1].as_matrix().astype(np.float)\n",
    "y_train = X_train_df['gender'].as_matrix().astype(np.float)\n",
    "X_valid = X_valid_df.iloc[:,1:-1].as_matrix().astype(np.float)\n",
    "y_valid = X_valid_df['gender'].as_matrix().astype(np.float)\n",
    "X_test = X_test_df.iloc[:,1:-1].as_matrix().astype(np.float)\n",
    "y_test = X_test_df['gender'].as_matrix().astype(np.float)"
   ]
  },
  {
   "cell_type": "code",
   "execution_count": 11,
   "metadata": {},
   "outputs": [],
   "source": [
    "X_train_valid = np.concatenate([X_train,X_valid],axis=0)\n",
    "y_train_valid = np.concatenate([y_train,y_valid],axis=0)"
   ]
  },
  {
   "cell_type": "code",
   "execution_count": 12,
   "metadata": {},
   "outputs": [],
   "source": [
    "lr = LogisticRegression()"
   ]
  },
  {
   "cell_type": "code",
   "execution_count": 13,
   "metadata": {},
   "outputs": [],
   "source": [
    "def train_and_evaluate(clf, X_train, X_test, y_train, y_test):\n",
    "    clf.fit(X_train, y_train)\n",
    "    \n",
    "    y_pred1 = clf.predict(X_test)\n",
    "    \n",
    "    print(\"Scores on test dataset\")\n",
    "    print(\"Accuracy: \" + str(metrics.accuracy_score(y_test,y_pred1))) \n",
    "    print(\"Precision: \" + str(metrics.precision_score(y_test, y_pred1)))\n",
    "    print(\"Recall: \" + str(metrics.recall_score(y_test, y_pred1)))\n",
    "    print(\"F1: \" + str(metrics.f1_score(y_test,y_pred1)))\n",
    "    \n",
    "    y_pred2 = clf.predict(X_train)\n",
    "    \n",
    "    print(\"Scores on train dataset\")\n",
    "    print(\"Accuracy: \" + str(metrics.accuracy_score(y_train,y_pred2)))\n",
    "    print(\"Precision: \" + str(metrics.precision_score(y_train, y_pred2)))\n",
    "    print(\"Recall: \" + str(metrics.recall_score(y_train, y_pred2)))\n",
    "    print(\"F1: \" + str(metrics.f1_score(y_train,y_pred2)))\n",
    "    \n",
    "    return y_pred1"
   ]
  },
  {
   "cell_type": "code",
   "execution_count": 14,
   "metadata": {},
   "outputs": [],
   "source": [
    "clf1 = Pipeline([\n",
    "    (\"min_max scalar\", MinMaxScaler(feature_range=(0.0,1.0))),\n",
    "    (\"lg\", LogisticRegression())\n",
    "])\n",
    "clf2 = Pipeline([\n",
    "    (\"min_max scalar\", MinMaxScaler(feature_range=(0.0,1.0))),\n",
    "    (\"lg\", LogisticRegression())\n",
    "])\n",
    "clf3 = Pipeline([\n",
    "    (\"min_max scalar\", MinMaxScaler(feature_range=(0.0,1.0))),\n",
    "    (\"lg\", LogisticRegression())\n",
    "])\n",
    "clf4 = Pipeline([\n",
    "    (\"min_max scalar\", MinMaxScaler(feature_range=(0.0,1.0))),\n",
    "    (\"lg\", LogisticRegression())\n",
    "])\n",
    "sclf = StackingCVClassifier(classifiers=[clf1,clf2,clf3,clf4],meta_classifier=lr)"
   ]
  },
  {
   "cell_type": "code",
   "execution_count": 15,
   "metadata": {},
   "outputs": [
    {
     "name": "stdout",
     "output_type": "stream",
     "text": [
      "Scores on test dataset\n",
      "Accuracy: 0.8219248584662893\n",
      "Precision: 0.8605072463768116\n",
      "Recall: 0.9253246753246753\n",
      "F1: 0.8917396745932414\n",
      "Scores on train dataset\n",
      "Accuracy: 0.9053587415270495\n",
      "Precision: 0.9071330380326867\n",
      "Recall: 0.9782572887497941\n",
      "F1: 0.9413536218101125\n"
     ]
    }
   ],
   "source": [
    "y_lr = train_and_evaluate(clf1,X_train_valid,X_test,y_train_valid,y_test)"
   ]
  },
  {
   "cell_type": "code",
   "execution_count": 16,
   "metadata": {},
   "outputs": [
    {
     "name": "stdout",
     "output_type": "stream",
     "text": [
      "Scores on test dataset\n",
      "Accuracy: 0.8219248584662893\n",
      "Precision: 0.8605072463768116\n",
      "Recall: 0.9253246753246753\n",
      "F1: 0.8917396745932414\n",
      "Scores on train dataset\n",
      "Accuracy: 0.9053587415270495\n",
      "Precision: 0.9071330380326867\n",
      "Recall: 0.9782572887497941\n",
      "F1: 0.9413536218101125\n"
     ]
    }
   ],
   "source": [
    "y_lrs = train_and_evaluate(sclf,X_train_valid,X_test,y_train_valid,y_test)"
   ]
  },
  {
   "cell_type": "code",
   "execution_count": 17,
   "metadata": {},
   "outputs": [],
   "source": [
    "clf1 = Pipeline([\n",
    "    (\"min_max scalar\", MinMaxScaler(feature_range=(0.0,1.0))),\n",
    "    (\"svm\", SVC(kernel='linear'))\n",
    "])\n",
    "clf2 = Pipeline([\n",
    "    (\"min_max scalar\", MinMaxScaler(feature_range=(0.0,1.0))),\n",
    "    (\"svm\", SVC(kernel='linear'))\n",
    "])\n",
    "clf3 = Pipeline([\n",
    "    (\"min_max scalar\", MinMaxScaler(feature_range=(0.0,1.0))),\n",
    "    (\"svm\", SVC(kernel='linear'))\n",
    "])\n",
    "clf4 = Pipeline([\n",
    "    (\"min_max scalar\", MinMaxScaler(feature_range=(0.0,1.0))),\n",
    "    (\"svm\", SVC(kernel='linear'))\n",
    "])\n",
    "sclf = StackingCVClassifier(classifiers=[clf1,clf2,clf3,clf4],meta_classifier=lr)"
   ]
  },
  {
   "cell_type": "code",
   "execution_count": 18,
   "metadata": {},
   "outputs": [
    {
     "name": "stdout",
     "output_type": "stream",
     "text": [
      "Scores on test dataset\n",
      "Accuracy: 0.8095728255275347\n",
      "Precision: 0.8620049504950495\n",
      "Recall: 0.9045454545454545\n",
      "F1: 0.8827629911280102\n",
      "Scores on train dataset\n",
      "Accuracy: 0.928251694590101\n",
      "Precision: 0.931412464766677\n",
      "Recall: 0.9797397463350355\n",
      "F1: 0.9549650798747692\n"
     ]
    }
   ],
   "source": [
    "y_svm = train_and_evaluate(clf1,X_train_valid,X_test,y_train_valid,y_test)"
   ]
  },
  {
   "cell_type": "code",
   "execution_count": 19,
   "metadata": {},
   "outputs": [
    {
     "name": "stdout",
     "output_type": "stream",
     "text": [
      "Scores on test dataset\n",
      "Accuracy: 0.8095728255275347\n",
      "Precision: 0.8620049504950495\n",
      "Recall: 0.9045454545454545\n",
      "F1: 0.8827629911280102\n",
      "Scores on train dataset\n",
      "Accuracy: 0.928251694590101\n",
      "Precision: 0.931412464766677\n",
      "Recall: 0.9797397463350355\n",
      "F1: 0.9549650798747692\n"
     ]
    }
   ],
   "source": [
    "y_svms = train_and_evaluate(sclf,X_train_valid,X_test,y_train_valid,y_test)"
   ]
  },
  {
   "cell_type": "code",
   "execution_count": 20,
   "metadata": {},
   "outputs": [],
   "source": [
    "clf1 = Pipeline([\n",
    "    (\"min_max scalar\", MinMaxScaler(feature_range=(0.0,1.0))),\n",
    "    (\"rf\", RandomForestClassifier())\n",
    "])\n",
    "clf2 = Pipeline([\n",
    "    (\"min_max scalar\", MinMaxScaler(feature_range=(0.0,1.0))),\n",
    "    (\"rf\", RandomForestClassifier())\n",
    "])\n",
    "clf3 = Pipeline([\n",
    "    (\"min_max scalar\", MinMaxScaler(feature_range=(0.0,1.0))),\n",
    "    (\"rf\", RandomForestClassifier())\n",
    "])\n",
    "clf4 = Pipeline([\n",
    "    (\"min_max scalar\", MinMaxScaler(feature_range=(0.0,1.0))),\n",
    "    (\"rf\", RandomForestClassifier())\n",
    "])\n",
    "sclf = StackingCVClassifier(classifiers=[clf1,clf2,clf3,clf4],meta_classifier=lr)"
   ]
  },
  {
   "cell_type": "code",
   "execution_count": 21,
   "metadata": {},
   "outputs": [
    {
     "name": "stdout",
     "output_type": "stream",
     "text": [
      "Scores on test dataset\n",
      "Accuracy: 0.7848687596500258\n",
      "Precision: 0.8311688311688312\n",
      "Recall: 0.9142857142857143\n",
      "F1: 0.8707482993197279\n",
      "Scores on train dataset\n",
      "Accuracy: 0.9934774267809183\n",
      "Precision: 0.9924738219895288\n",
      "Recall: 0.9991764124526438\n",
      "F1: 0.9958138389559222\n"
     ]
    }
   ],
   "source": [
    "y_rf = train_and_evaluate(clf1,X_train_valid,X_test,y_train_valid,y_test)"
   ]
  },
  {
   "cell_type": "code",
   "execution_count": 22,
   "metadata": {},
   "outputs": [
    {
     "name": "stdout",
     "output_type": "stream",
     "text": [
      "Scores on test dataset\n",
      "Accuracy: 0.8095728255275347\n",
      "Precision: 0.8286516853932584\n",
      "Recall: 0.9577922077922078\n",
      "F1: 0.8885542168674697\n",
      "Scores on train dataset\n",
      "Accuracy: 0.999744212814938\n",
      "Precision: 0.9996706734727482\n",
      "Recall: 1.0\n",
      "F1: 0.9998353096179182\n"
     ]
    }
   ],
   "source": [
    "y_rfs = train_and_evaluate(sclf,X_train_valid,X_test,y_train_valid,y_test)"
   ]
  },
  {
   "cell_type": "code",
   "execution_count": 23,
   "metadata": {},
   "outputs": [],
   "source": [
    "clf1 = Pipeline([\n",
    "    (\"min_max scalar\", MinMaxScaler(feature_range=(0.0,1.0))),\n",
    "    (\"lg\", LogisticRegression())\n",
    "])\n",
    "clf2 = Pipeline([\n",
    "    (\"min_max scalar\", MinMaxScaler(feature_range=(0.0,1.0))),\n",
    "    (\"svm\", SVC(kernel='linear'))\n",
    "])\n",
    "clf3 = Pipeline([\n",
    "    (\"min_max scalar\", MinMaxScaler(feature_range=(0.0,1.0))),\n",
    "    (\"rf\", RandomForestClassifier())\n",
    "])\n",
    "sclf = StackingCVClassifier(classifiers=[clf1,clf2,clf3,clf4],meta_classifier=lr)"
   ]
  },
  {
   "cell_type": "code",
   "execution_count": 24,
   "metadata": {},
   "outputs": [
    {
     "name": "stdout",
     "output_type": "stream",
     "text": [
      "Scores on test dataset\n",
      "Accuracy: 0.8286155429747812\n",
      "Precision: 0.8354641467481935\n",
      "Recall: 0.9759740259740259\n",
      "F1: 0.9002695417789757\n",
      "Scores on train dataset\n",
      "Accuracy: 0.9457731167668499\n",
      "Precision: 0.9347190146266359\n",
      "Recall: 1.0\n",
      "F1: 0.9662581569314023\n"
     ]
    }
   ],
   "source": [
    "y_all = train_and_evaluate(sclf,X_train_valid,X_test,y_train_valid,y_test)"
   ]
  },
  {
   "cell_type": "code",
   "execution_count": 25,
   "metadata": {},
   "outputs": [
    {
     "data": {
      "text/plain": [
       "array([[-0.82405994, -0.16533907, -0.51306932, ...,  0.        ,\n",
       "         0.        ,  0.        ],\n",
       "       [-0.82405994, -0.16533907, -0.51306932, ...,  0.        ,\n",
       "         0.        ,  0.        ],\n",
       "       [ 1.31564625, -0.16533907,  2.09181401, ...,  0.        ,\n",
       "         0.        ,  0.        ],\n",
       "       ...,\n",
       "       [ 1.2960928 , -0.16533907,  1.92244036, ...,  0.        ,\n",
       "         0.        ,  0.        ],\n",
       "       [-0.82405994, -0.16533907, -0.51306932, ...,  0.        ,\n",
       "         0.        ,  0.        ],\n",
       "       [ 1.18138191, -0.16533907, -0.51306932, ...,  0.        ,\n",
       "         0.        ,  0.        ]])"
      ]
     },
     "execution_count": 25,
     "metadata": {},
     "output_type": "execute_result"
    }
   ],
   "source": [
    "standard = StandardScaler()\n",
    "standard.fit_transform(X_train)\n",
    "standard.fit_transform(X_test)\n",
    "standard.fit_transform(X_valid)"
   ]
  },
  {
   "cell_type": "code",
   "execution_count": 26,
   "metadata": {},
   "outputs": [
    {
     "name": "stdout",
     "output_type": "stream",
     "text": [
      "Scores on test dataset\n",
      "Accuracy: 0.8244981986618631\n",
      "Precision: 0.8288535381239714\n",
      "Recall: 0.9811688311688311\n",
      "F1: 0.8986024382991377\n",
      "Scores on train dataset\n",
      "Accuracy: 0.819542140938739\n",
      "Precision: 0.8179585152838428\n",
      "Recall: 0.9873167517707132\n",
      "F1: 0.8946936338532726\n"
     ]
    }
   ],
   "source": [
    "clf = MLPClassifier(hidden_layer_sizes=[100,100,10],max_iter=1000,random_state=33,alpha=5)\n",
    "y_nn = train_and_evaluate(clf,X_train_valid,X_test,y_train_valid,y_test)"
   ]
  },
  {
   "cell_type": "code",
   "execution_count": 28,
   "metadata": {},
   "outputs": [],
   "source": [
    "result = pd.DataFrame({'user_id':X_test_df['user_id'],'lr_label':y_lr,'lrs_label':y_lrs,'svm_label':y_svm,\n",
    "                      'svms_label':y_svms,'rf_label':y_rf,'rfs_label':y_rfs,'mix_label':y_all,'nn_label':y_nn,\n",
    "                      'true_label':y_test})\n",
    "result.to_csv('result_my_feature.csv')"
   ]
  }
 ],
 "metadata": {
  "kernelspec": {
   "display_name": "Python 3",
   "language": "python",
   "name": "python3"
  },
  "language_info": {
   "codemirror_mode": {
    "name": "ipython",
    "version": 3
   },
   "file_extension": ".py",
   "mimetype": "text/x-python",
   "name": "python",
   "nbconvert_exporter": "python",
   "pygments_lexer": "ipython3",
   "version": "3.7.3"
  }
 },
 "nbformat": 4,
 "nbformat_minor": 2
}
