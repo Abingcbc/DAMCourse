{
 "cells": [
  {
   "cell_type": "code",
   "execution_count": 1,
   "metadata": {},
   "outputs": [],
   "source": [
    "import pandas as pd\n",
    "import numpy as np\n",
    "import utm"
   ]
  },
  {
   "cell_type": "code",
   "execution_count": 2,
   "metadata": {},
   "outputs": [],
   "source": [
    "left_down_x, left_down_y, zone_number, zone_letter = utm.from_latlon(31.281, 121.201)\n",
    "\n",
    "right_up_x, right_up_y, _, _ = utm.from_latlon(31.293, 121.218)"
   ]
  },
  {
   "cell_type": "code",
   "execution_count": 3,
   "metadata": {},
   "outputs": [
    {
     "name": "stdout",
     "output_type": "stream",
     "text": [
      "328749.16404297145\n",
      "3462140.7252702857\n",
      "330389.1687584914\n",
      "3463444.713644251\n",
      "R\n",
      "51\n"
     ]
    }
   ],
   "source": [
    "print(left_down_x)\n",
    "print(left_down_y)\n",
    "print(right_up_x)\n",
    "print(right_up_y)\n",
    "print(zone_letter)\n",
    "print(zone_number)"
   ]
  },
  {
   "cell_type": "code",
   "execution_count": 4,
   "metadata": {},
   "outputs": [],
   "source": [
    "X = [x for x in range(328749, 330390, 50)]\n",
    "Y = [y for y in range(3462140, 3463445, 50)]"
   ]
  },
  {
   "cell_type": "code",
   "execution_count": 5,
   "metadata": {},
   "outputs": [
    {
     "data": {
      "text/plain": [
       "33"
      ]
     },
     "execution_count": 5,
     "metadata": {},
     "output_type": "execute_result"
    }
   ],
   "source": [
    "len(X)"
   ]
  },
  {
   "cell_type": "code",
   "execution_count": 6,
   "metadata": {},
   "outputs": [
    {
     "data": {
      "text/plain": [
       "27"
      ]
     },
     "execution_count": 6,
     "metadata": {},
     "output_type": "execute_result"
    }
   ],
   "source": [
    "len(Y)"
   ]
  },
  {
   "cell_type": "code",
   "execution_count": 7,
   "metadata": {},
   "outputs": [],
   "source": [
    "data = []"
   ]
  },
  {
   "cell_type": "code",
   "execution_count": 8,
   "metadata": {},
   "outputs": [],
   "source": [
    "for x in X:\n",
    "    for y in Y:\n",
    "        data.append([x, y])"
   ]
  },
  {
   "cell_type": "code",
   "execution_count": 9,
   "metadata": {},
   "outputs": [
    {
     "data": {
      "text/plain": [
       "891"
      ]
     },
     "execution_count": 9,
     "metadata": {},
     "output_type": "execute_result"
    }
   ],
   "source": [
    "len(data)"
   ]
  },
  {
   "cell_type": "code",
   "execution_count": 10,
   "metadata": {},
   "outputs": [],
   "source": [
    "grid = pd.DataFrame(data=data, columns=['x','y'])"
   ]
  },
  {
   "cell_type": "code",
   "execution_count": 11,
   "metadata": {},
   "outputs": [],
   "source": [
    "grid.to_csv('/Users/cbc/Project/Python/DAMCourse/Assignment3/hwphase2data_update/grid1.csv')"
   ]
  },
  {
   "cell_type": "code",
   "execution_count": 12,
   "metadata": {},
   "outputs": [],
   "source": [
    "X_train = pd.read_csv('/Users/cbc/Project/Python/DAMCourse/Assignment3/hwphase2data_update/train_2g.csv')"
   ]
  },
  {
   "cell_type": "code",
   "execution_count": 13,
   "metadata": {},
   "outputs": [
    {
     "data": {
      "text/html": [
       "<div>\n",
       "<style scoped>\n",
       "    .dataframe tbody tr th:only-of-type {\n",
       "        vertical-align: middle;\n",
       "    }\n",
       "\n",
       "    .dataframe tbody tr th {\n",
       "        vertical-align: top;\n",
       "    }\n",
       "\n",
       "    .dataframe thead th {\n",
       "        text-align: right;\n",
       "    }\n",
       "</style>\n",
       "<table border=\"1\" class=\"dataframe\">\n",
       "  <thead>\n",
       "    <tr style=\"text-align: right;\">\n",
       "      <th></th>\n",
       "      <th>TrajID</th>\n",
       "      <th>IMEI</th>\n",
       "      <th>IMSI</th>\n",
       "      <th>MRTime</th>\n",
       "      <th>RNCID_1</th>\n",
       "      <th>CellID_1</th>\n",
       "      <th>Dbm_1</th>\n",
       "      <th>AsuLevel_1</th>\n",
       "      <th>SignalLevel_1</th>\n",
       "      <th>RNCID_2</th>\n",
       "      <th>...</th>\n",
       "      <th>RNCID_6</th>\n",
       "      <th>CellID_6</th>\n",
       "      <th>Dbm_6</th>\n",
       "      <th>AsuLevel_6</th>\n",
       "      <th>SignalLevel_6</th>\n",
       "      <th>Longitude</th>\n",
       "      <th>Latitude</th>\n",
       "      <th>Altitude</th>\n",
       "      <th>Accuracy</th>\n",
       "      <th>Speed</th>\n",
       "    </tr>\n",
       "  </thead>\n",
       "  <tbody>\n",
       "    <tr>\n",
       "      <th>0</th>\n",
       "      <td>0</td>\n",
       "      <td>861374033830412</td>\n",
       "      <td>460012796993062</td>\n",
       "      <td>1507627346</td>\n",
       "      <td>6188</td>\n",
       "      <td>26050</td>\n",
       "      <td>-79</td>\n",
       "      <td>17</td>\n",
       "      <td>4</td>\n",
       "      <td>6188</td>\n",
       "      <td>...</td>\n",
       "      <td>6188</td>\n",
       "      <td>27377</td>\n",
       "      <td>-87</td>\n",
       "      <td>13</td>\n",
       "      <td>4</td>\n",
       "      <td>121.213610</td>\n",
       "      <td>31.289266</td>\n",
       "      <td>23.0</td>\n",
       "      <td>3.0</td>\n",
       "      <td>0.68</td>\n",
       "    </tr>\n",
       "    <tr>\n",
       "      <th>1</th>\n",
       "      <td>0</td>\n",
       "      <td>861374033830412</td>\n",
       "      <td>460012796993062</td>\n",
       "      <td>1507627351</td>\n",
       "      <td>6188</td>\n",
       "      <td>26051</td>\n",
       "      <td>-75</td>\n",
       "      <td>19</td>\n",
       "      <td>4</td>\n",
       "      <td>6188</td>\n",
       "      <td>...</td>\n",
       "      <td>6188</td>\n",
       "      <td>27377</td>\n",
       "      <td>-87</td>\n",
       "      <td>13</td>\n",
       "      <td>4</td>\n",
       "      <td>121.213575</td>\n",
       "      <td>31.289228</td>\n",
       "      <td>-7.0</td>\n",
       "      <td>8.0</td>\n",
       "      <td>0.00</td>\n",
       "    </tr>\n",
       "    <tr>\n",
       "      <th>2</th>\n",
       "      <td>0</td>\n",
       "      <td>861374033830412</td>\n",
       "      <td>460012796993062</td>\n",
       "      <td>1507627356</td>\n",
       "      <td>6188</td>\n",
       "      <td>26051</td>\n",
       "      <td>-75</td>\n",
       "      <td>19</td>\n",
       "      <td>4</td>\n",
       "      <td>6188</td>\n",
       "      <td>...</td>\n",
       "      <td>6188</td>\n",
       "      <td>27377</td>\n",
       "      <td>-87</td>\n",
       "      <td>13</td>\n",
       "      <td>4</td>\n",
       "      <td>121.213583</td>\n",
       "      <td>31.289263</td>\n",
       "      <td>1.0</td>\n",
       "      <td>5.0</td>\n",
       "      <td>0.00</td>\n",
       "    </tr>\n",
       "    <tr>\n",
       "      <th>3</th>\n",
       "      <td>0</td>\n",
       "      <td>861374033830412</td>\n",
       "      <td>460012796993062</td>\n",
       "      <td>1507627359</td>\n",
       "      <td>6188</td>\n",
       "      <td>26051</td>\n",
       "      <td>-73</td>\n",
       "      <td>20</td>\n",
       "      <td>4</td>\n",
       "      <td>6188</td>\n",
       "      <td>...</td>\n",
       "      <td>6188</td>\n",
       "      <td>27377</td>\n",
       "      <td>-85</td>\n",
       "      <td>14</td>\n",
       "      <td>4</td>\n",
       "      <td>121.213605</td>\n",
       "      <td>31.289285</td>\n",
       "      <td>-5.0</td>\n",
       "      <td>7.0</td>\n",
       "      <td>0.00</td>\n",
       "    </tr>\n",
       "    <tr>\n",
       "      <th>4</th>\n",
       "      <td>0</td>\n",
       "      <td>861374033830412</td>\n",
       "      <td>460012796993062</td>\n",
       "      <td>1507627362</td>\n",
       "      <td>6188</td>\n",
       "      <td>26051</td>\n",
       "      <td>-73</td>\n",
       "      <td>20</td>\n",
       "      <td>4</td>\n",
       "      <td>6188</td>\n",
       "      <td>...</td>\n",
       "      <td>6188</td>\n",
       "      <td>27377</td>\n",
       "      <td>-83</td>\n",
       "      <td>15</td>\n",
       "      <td>4</td>\n",
       "      <td>121.213596</td>\n",
       "      <td>31.289288</td>\n",
       "      <td>-1.0</td>\n",
       "      <td>4.0</td>\n",
       "      <td>0.00</td>\n",
       "    </tr>\n",
       "  </tbody>\n",
       "</table>\n",
       "<p>5 rows × 39 columns</p>\n",
       "</div>"
      ],
      "text/plain": [
       "   TrajID             IMEI             IMSI      MRTime  RNCID_1  CellID_1  \\\n",
       "0       0  861374033830412  460012796993062  1507627346     6188     26050   \n",
       "1       0  861374033830412  460012796993062  1507627351     6188     26051   \n",
       "2       0  861374033830412  460012796993062  1507627356     6188     26051   \n",
       "3       0  861374033830412  460012796993062  1507627359     6188     26051   \n",
       "4       0  861374033830412  460012796993062  1507627362     6188     26051   \n",
       "\n",
       "   Dbm_1  AsuLevel_1  SignalLevel_1  RNCID_2  ...  RNCID_6  CellID_6  Dbm_6  \\\n",
       "0    -79          17              4     6188  ...     6188     27377    -87   \n",
       "1    -75          19              4     6188  ...     6188     27377    -87   \n",
       "2    -75          19              4     6188  ...     6188     27377    -87   \n",
       "3    -73          20              4     6188  ...     6188     27377    -85   \n",
       "4    -73          20              4     6188  ...     6188     27377    -83   \n",
       "\n",
       "   AsuLevel_6  SignalLevel_6   Longitude   Latitude  Altitude  Accuracy  Speed  \n",
       "0          13              4  121.213610  31.289266      23.0       3.0   0.68  \n",
       "1          13              4  121.213575  31.289228      -7.0       8.0   0.00  \n",
       "2          13              4  121.213583  31.289263       1.0       5.0   0.00  \n",
       "3          14              4  121.213605  31.289285      -5.0       7.0   0.00  \n",
       "4          15              4  121.213596  31.289288      -1.0       4.0   0.00  \n",
       "\n",
       "[5 rows x 39 columns]"
      ]
     },
     "execution_count": 13,
     "metadata": {},
     "output_type": "execute_result"
    }
   ],
   "source": [
    "X_train.head()"
   ]
  },
  {
   "cell_type": "code",
   "execution_count": 14,
   "metadata": {},
   "outputs": [],
   "source": [
    "label = []"
   ]
  },
  {
   "cell_type": "code",
   "execution_count": 15,
   "metadata": {},
   "outputs": [],
   "source": [
    "u1, u2, _, _ = utm.from_latlon(X_train.values[0][-4], X_train.values[0][-5])\n",
    "test = np.array([u1, u2])"
   ]
  },
  {
   "cell_type": "code",
   "execution_count": 16,
   "metadata": {},
   "outputs": [
    {
     "data": {
      "text/plain": [
       "666"
      ]
     },
     "execution_count": 16,
     "metadata": {},
     "output_type": "execute_result"
    }
   ],
   "source": [
    "np.argmin(np.sum(np.square(test - grid.values), axis=1))"
   ]
  },
  {
   "cell_type": "code",
   "execution_count": 17,
   "metadata": {},
   "outputs": [
    {
     "data": {
      "text/plain": [
       "(329964.57556661934, 3463037.539767792, 51, 'R')"
      ]
     },
     "execution_count": 17,
     "metadata": {},
     "output_type": "execute_result"
    }
   ],
   "source": [
    "utm.from_latlon(X_train.values[0][-4], X_train.values[0][-5])"
   ]
  },
  {
   "cell_type": "code",
   "execution_count": 18,
   "metadata": {},
   "outputs": [],
   "source": [
    "for mr in X_train.values:\n",
    "    u1, u2, _, _ = utm.from_latlon(mr[-4], mr[-5])\n",
    "    test = np.array([u1, u2])\n",
    "    label.append(np.argmin(np.sum(np.square(test - grid.values), axis=1)))"
   ]
  },
  {
   "cell_type": "code",
   "execution_count": 19,
   "metadata": {},
   "outputs": [
    {
     "data": {
      "text/plain": [
       "10047"
      ]
     },
     "execution_count": 19,
     "metadata": {},
     "output_type": "execute_result"
    }
   ],
   "source": [
    "len(label)"
   ]
  },
  {
   "cell_type": "code",
   "execution_count": 20,
   "metadata": {},
   "outputs": [],
   "source": [
    "label_df = pd.DataFrame(data=label,columns=['label'])"
   ]
  },
  {
   "cell_type": "code",
   "execution_count": 21,
   "metadata": {},
   "outputs": [],
   "source": [
    "label_df.to_csv('/Users/cbc/Project/Python/DAMCourse/Assignment3/hwphase2data_update/label1.csv')"
   ]
  },
  {
   "cell_type": "code",
   "execution_count": null,
   "metadata": {},
   "outputs": [],
   "source": [
    "label_df.values"
   ]
  },
  {
   "cell_type": "code",
   "execution_count": null,
   "metadata": {},
   "outputs": [],
   "source": [
    "for i in label_df.values:\n",
    "    print(i[0])"
   ]
  },
  {
   "cell_type": "code",
   "execution_count": null,
   "metadata": {},
   "outputs": [],
   "source": []
  }
 ],
 "metadata": {
  "kernelspec": {
   "display_name": "Python 3",
   "language": "python",
   "name": "python3"
  },
  "language_info": {
   "codemirror_mode": {
    "name": "ipython",
    "version": 3
   },
   "file_extension": ".py",
   "mimetype": "text/x-python",
   "name": "python",
   "nbconvert_exporter": "python",
   "pygments_lexer": "ipython3",
   "version": "3.7.3"
  }
 },
 "nbformat": 4,
 "nbformat_minor": 2
}
