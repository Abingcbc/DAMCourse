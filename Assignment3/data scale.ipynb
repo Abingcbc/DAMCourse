{
 "cells": [
  {
   "cell_type": "code",
   "execution_count": 1,
   "metadata": {},
   "outputs": [],
   "source": [
    "import pandas as pd\n",
    "import numpy as np\n",
    "import utm"
   ]
  },
  {
   "cell_type": "code",
   "execution_count": null,
   "metadata": {},
   "outputs": [],
   "source": [
    "raw_data = pd.read_csv('/Users/cbc/Project/Python/DAMCourse/Assignment3/hwphase2data_update/test_2g.csv')"
   ]
  },
  {
   "cell_type": "code",
   "execution_count": null,
   "metadata": {},
   "outputs": [],
   "source": [
    "gongcan = pd.read_csv('/Users/cbc/Project/Python/DAMCourse/Assignment3/hwphase2data_update/gongcan.csv')"
   ]
  },
  {
   "cell_type": "code",
   "execution_count": null,
   "metadata": {},
   "outputs": [],
   "source": [
    "new_data = raw_data.values"
   ]
  },
  {
   "cell_type": "code",
   "execution_count": null,
   "metadata": {},
   "outputs": [],
   "source": [
    "for mr in new_data:\n",
    "    temp = gongcan[(gongcan['RNCID'] == mr[4]) & (gongcan['CellID'] == mr[5])]\n",
    "    utm1, utm2, _, _ = utm.from_latlon(temp['Latitude'].values[0], temp['Longitude'].values[0])\n",
    "    mr[4] = utm1\n",
    "    mr[5] = utm2\n",
    "    if -999 in mr[9:14]:\n",
    "        mr[9:14] = mr[4:9]\n",
    "    else:\n",
    "        temp = gongcan[(gongcan['RNCID'] == mr[9]) & (gongcan['CellID'] == mr[10])]\n",
    "        utm1, utm2, _, _ = utm.from_latlon(temp['Latitude'].values[0], temp['Longitude'].values[0])\n",
    "        mr[9] = utm1\n",
    "        mr[10] = utm2\n",
    "    if -999 in mr[14:19]:\n",
    "        mr[14:19] = mr[4:9]\n",
    "    else:\n",
    "        temp = gongcan[(gongcan['RNCID'] == mr[14]) & (gongcan['CellID'] == mr[15])]\n",
    "        utm1, utm2, _, _ = utm.from_latlon(temp['Latitude'].values[0], temp['Longitude'].values[0])\n",
    "        mr[14] = utm1\n",
    "        mr[15] = utm2\n",
    "    if -999 in mr[19:24]:\n",
    "        mr[19:24] = mr[4:9]\n",
    "    else:\n",
    "        temp = gongcan[(gongcan['RNCID'] == mr[19]) & (gongcan['CellID'] == mr[20])]\n",
    "        utm1, utm2, _, _ = utm.from_latlon(temp['Latitude'].values[0], temp['Longitude'].values[0])\n",
    "        mr[19] = utm1\n",
    "        mr[20] = utm2\n",
    "    if -999 in mr[24:29]:\n",
    "        mr[24:29] = mr[4:9]\n",
    "    else:\n",
    "        temp = gongcan[(gongcan['RNCID'] == mr[24]) & (gongcan['CellID'] == mr[25])]\n",
    "        utm1, utm2, _, _ = utm.from_latlon(temp['Latitude'].values[0], temp['Longitude'].values[0])\n",
    "        mr[24] = utm1\n",
    "        mr[25] = utm2\n",
    "    if -999 in mr[29:34]:\n",
    "        mr[29:34] = mr[4:9]\n",
    "    else:\n",
    "        temp = gongcan[(gongcan['RNCID'] == mr[29]) & (gongcan['CellID'] == mr[30])]\n",
    "        utm1, utm2, _, _ = utm.from_latlon(temp['Latitude'].values[0], temp['Longitude'].values[0])\n",
    "        mr[29] = utm1\n",
    "        mr[30] = utm2"
   ]
  },
  {
   "cell_type": "code",
   "execution_count": null,
   "metadata": {},
   "outputs": [],
   "source": [
    "raw_data.head()"
   ]
  },
  {
   "cell_type": "code",
   "execution_count": null,
   "metadata": {},
   "outputs": [],
   "source": [
    "new_df = pd.DataFrame(data=new_data, columns=raw_data.columns)"
   ]
  },
  {
   "cell_type": "code",
   "execution_count": null,
   "metadata": {},
   "outputs": [],
   "source": [
    "new_df.head()"
   ]
  },
  {
   "cell_type": "code",
   "execution_count": null,
   "metadata": {},
   "outputs": [],
   "source": [
    "new_df.to_csv('/Users/cbc/Project/Python/DAMCourse/Assignment3/hwphase2data_update/new_train.csv', index=False)"
   ]
  },
  {
   "cell_type": "code",
   "execution_count": 3,
   "metadata": {},
   "outputs": [],
   "source": [
    "df = pd.read_csv('hwphase2data_update/new_train.csv')"
   ]
  },
  {
   "cell_type": "code",
   "execution_count": 4,
   "metadata": {},
   "outputs": [
    {
     "data": {
      "text/html": [
       "<div>\n",
       "<style scoped>\n",
       "    .dataframe tbody tr th:only-of-type {\n",
       "        vertical-align: middle;\n",
       "    }\n",
       "\n",
       "    .dataframe tbody tr th {\n",
       "        vertical-align: top;\n",
       "    }\n",
       "\n",
       "    .dataframe thead th {\n",
       "        text-align: right;\n",
       "    }\n",
       "</style>\n",
       "<table border=\"1\" class=\"dataframe\">\n",
       "  <thead>\n",
       "    <tr style=\"text-align: right;\">\n",
       "      <th></th>\n",
       "      <th>TrajID</th>\n",
       "      <th>IMEI</th>\n",
       "      <th>IMSI</th>\n",
       "      <th>MRTime</th>\n",
       "      <th>RNCID_1</th>\n",
       "      <th>CellID_1</th>\n",
       "      <th>Dbm_1</th>\n",
       "      <th>AsuLevel_1</th>\n",
       "      <th>SignalLevel_1</th>\n",
       "      <th>RNCID_2</th>\n",
       "      <th>...</th>\n",
       "      <th>RNCID_6</th>\n",
       "      <th>CellID_6</th>\n",
       "      <th>Dbm_6</th>\n",
       "      <th>AsuLevel_6</th>\n",
       "      <th>SignalLevel_6</th>\n",
       "      <th>Longitude</th>\n",
       "      <th>Latitude</th>\n",
       "      <th>Altitude</th>\n",
       "      <th>Accuracy</th>\n",
       "      <th>Speed</th>\n",
       "    </tr>\n",
       "  </thead>\n",
       "  <tbody>\n",
       "    <tr>\n",
       "      <th>0</th>\n",
       "      <td>0.0</td>\n",
       "      <td>8.613740e+14</td>\n",
       "      <td>4.600128e+14</td>\n",
       "      <td>1.507627e+09</td>\n",
       "      <td>329720.543832</td>\n",
       "      <td>3.462947e+06</td>\n",
       "      <td>-79.0</td>\n",
       "      <td>17.0</td>\n",
       "      <td>4.0</td>\n",
       "      <td>329351.950099</td>\n",
       "      <td>...</td>\n",
       "      <td>330416.573534</td>\n",
       "      <td>3.463404e+06</td>\n",
       "      <td>-87.0</td>\n",
       "      <td>13.0</td>\n",
       "      <td>4.0</td>\n",
       "      <td>121.213610</td>\n",
       "      <td>31.289266</td>\n",
       "      <td>23.0</td>\n",
       "      <td>3.0</td>\n",
       "      <td>0.68</td>\n",
       "    </tr>\n",
       "    <tr>\n",
       "      <th>1</th>\n",
       "      <td>0.0</td>\n",
       "      <td>8.613740e+14</td>\n",
       "      <td>4.600128e+14</td>\n",
       "      <td>1.507627e+09</td>\n",
       "      <td>329980.001824</td>\n",
       "      <td>3.463061e+06</td>\n",
       "      <td>-75.0</td>\n",
       "      <td>19.0</td>\n",
       "      <td>4.0</td>\n",
       "      <td>329351.950099</td>\n",
       "      <td>...</td>\n",
       "      <td>330416.573534</td>\n",
       "      <td>3.463404e+06</td>\n",
       "      <td>-87.0</td>\n",
       "      <td>13.0</td>\n",
       "      <td>4.0</td>\n",
       "      <td>121.213575</td>\n",
       "      <td>31.289228</td>\n",
       "      <td>-7.0</td>\n",
       "      <td>8.0</td>\n",
       "      <td>0.00</td>\n",
       "    </tr>\n",
       "    <tr>\n",
       "      <th>2</th>\n",
       "      <td>0.0</td>\n",
       "      <td>8.613740e+14</td>\n",
       "      <td>4.600128e+14</td>\n",
       "      <td>1.507627e+09</td>\n",
       "      <td>329980.001824</td>\n",
       "      <td>3.463061e+06</td>\n",
       "      <td>-75.0</td>\n",
       "      <td>19.0</td>\n",
       "      <td>4.0</td>\n",
       "      <td>329351.950099</td>\n",
       "      <td>...</td>\n",
       "      <td>330416.573534</td>\n",
       "      <td>3.463404e+06</td>\n",
       "      <td>-87.0</td>\n",
       "      <td>13.0</td>\n",
       "      <td>4.0</td>\n",
       "      <td>121.213583</td>\n",
       "      <td>31.289263</td>\n",
       "      <td>1.0</td>\n",
       "      <td>5.0</td>\n",
       "      <td>0.00</td>\n",
       "    </tr>\n",
       "    <tr>\n",
       "      <th>3</th>\n",
       "      <td>0.0</td>\n",
       "      <td>8.613740e+14</td>\n",
       "      <td>4.600128e+14</td>\n",
       "      <td>1.507627e+09</td>\n",
       "      <td>329980.001824</td>\n",
       "      <td>3.463061e+06</td>\n",
       "      <td>-73.0</td>\n",
       "      <td>20.0</td>\n",
       "      <td>4.0</td>\n",
       "      <td>329351.950099</td>\n",
       "      <td>...</td>\n",
       "      <td>330416.573534</td>\n",
       "      <td>3.463404e+06</td>\n",
       "      <td>-85.0</td>\n",
       "      <td>14.0</td>\n",
       "      <td>4.0</td>\n",
       "      <td>121.213605</td>\n",
       "      <td>31.289285</td>\n",
       "      <td>-5.0</td>\n",
       "      <td>7.0</td>\n",
       "      <td>0.00</td>\n",
       "    </tr>\n",
       "    <tr>\n",
       "      <th>4</th>\n",
       "      <td>0.0</td>\n",
       "      <td>8.613740e+14</td>\n",
       "      <td>4.600128e+14</td>\n",
       "      <td>1.507627e+09</td>\n",
       "      <td>329980.001824</td>\n",
       "      <td>3.463061e+06</td>\n",
       "      <td>-73.0</td>\n",
       "      <td>20.0</td>\n",
       "      <td>4.0</td>\n",
       "      <td>329351.950099</td>\n",
       "      <td>...</td>\n",
       "      <td>330416.573534</td>\n",
       "      <td>3.463404e+06</td>\n",
       "      <td>-83.0</td>\n",
       "      <td>15.0</td>\n",
       "      <td>4.0</td>\n",
       "      <td>121.213596</td>\n",
       "      <td>31.289288</td>\n",
       "      <td>-1.0</td>\n",
       "      <td>4.0</td>\n",
       "      <td>0.00</td>\n",
       "    </tr>\n",
       "  </tbody>\n",
       "</table>\n",
       "<p>5 rows × 39 columns</p>\n",
       "</div>"
      ],
      "text/plain": [
       "   TrajID          IMEI          IMSI        MRTime        RNCID_1  \\\n",
       "0     0.0  8.613740e+14  4.600128e+14  1.507627e+09  329720.543832   \n",
       "1     0.0  8.613740e+14  4.600128e+14  1.507627e+09  329980.001824   \n",
       "2     0.0  8.613740e+14  4.600128e+14  1.507627e+09  329980.001824   \n",
       "3     0.0  8.613740e+14  4.600128e+14  1.507627e+09  329980.001824   \n",
       "4     0.0  8.613740e+14  4.600128e+14  1.507627e+09  329980.001824   \n",
       "\n",
       "       CellID_1  Dbm_1  AsuLevel_1  SignalLevel_1        RNCID_2  ...  \\\n",
       "0  3.462947e+06  -79.0        17.0            4.0  329351.950099  ...   \n",
       "1  3.463061e+06  -75.0        19.0            4.0  329351.950099  ...   \n",
       "2  3.463061e+06  -75.0        19.0            4.0  329351.950099  ...   \n",
       "3  3.463061e+06  -73.0        20.0            4.0  329351.950099  ...   \n",
       "4  3.463061e+06  -73.0        20.0            4.0  329351.950099  ...   \n",
       "\n",
       "         RNCID_6      CellID_6  Dbm_6  AsuLevel_6  SignalLevel_6   Longitude  \\\n",
       "0  330416.573534  3.463404e+06  -87.0        13.0            4.0  121.213610   \n",
       "1  330416.573534  3.463404e+06  -87.0        13.0            4.0  121.213575   \n",
       "2  330416.573534  3.463404e+06  -87.0        13.0            4.0  121.213583   \n",
       "3  330416.573534  3.463404e+06  -85.0        14.0            4.0  121.213605   \n",
       "4  330416.573534  3.463404e+06  -83.0        15.0            4.0  121.213596   \n",
       "\n",
       "    Latitude  Altitude  Accuracy  Speed  \n",
       "0  31.289266      23.0       3.0   0.68  \n",
       "1  31.289228      -7.0       8.0   0.00  \n",
       "2  31.289263       1.0       5.0   0.00  \n",
       "3  31.289285      -5.0       7.0   0.00  \n",
       "4  31.289288      -1.0       4.0   0.00  \n",
       "\n",
       "[5 rows x 39 columns]"
      ]
     },
     "execution_count": 4,
     "metadata": {},
     "output_type": "execute_result"
    }
   ],
   "source": [
    "df.head()"
   ]
  },
  {
   "cell_type": "code",
   "execution_count": 5,
   "metadata": {},
   "outputs": [],
   "source": [
    "from sklearn.preprocessing import minmax_scale"
   ]
  },
  {
   "cell_type": "code",
   "execution_count": 6,
   "metadata": {},
   "outputs": [],
   "source": [
    "data = df.values"
   ]
  },
  {
   "cell_type": "code",
   "execution_count": 7,
   "metadata": {},
   "outputs": [
    {
     "data": {
      "text/plain": [
       "10047"
      ]
     },
     "execution_count": 7,
     "metadata": {},
     "output_type": "execute_result"
    }
   ],
   "source": [
    "len(data)"
   ]
  },
  {
   "cell_type": "code",
   "execution_count": 8,
   "metadata": {},
   "outputs": [
    {
     "data": {
      "text/plain": [
       "array([0.2090824 , 0.22193051, 0.22193051, ..., 0.19087762, 0.19087762,\n",
       "       0.23222723])"
      ]
     },
     "execution_count": 8,
     "metadata": {},
     "output_type": "execute_result"
    }
   ],
   "source": [
    "scaler = minmax_scale(np.concatenate([data[:,4],data[:,9],data[:,14],data[:,19],data[:,24],data[:,29]]))\n",
    "scaler"
   ]
  },
  {
   "cell_type": "code",
   "execution_count": 9,
   "metadata": {},
   "outputs": [],
   "source": [
    "df['RNCID_1'] = scaler[0:10047]"
   ]
  },
  {
   "cell_type": "code",
   "execution_count": 10,
   "metadata": {},
   "outputs": [
    {
     "data": {
      "text/plain": [
       "array([0.2090824 , 0.22193051, 0.22193051, ..., 0.19087762, 0.19087762,\n",
       "       0.23222723])"
      ]
     },
     "execution_count": 10,
     "metadata": {},
     "output_type": "execute_result"
    }
   ],
   "source": [
    "scaler[0:10047]"
   ]
  },
  {
   "cell_type": "code",
   "execution_count": 11,
   "metadata": {},
   "outputs": [],
   "source": [
    "df['RNCID_2'] = scaler[10047:10047*2]"
   ]
  },
  {
   "cell_type": "code",
   "execution_count": 12,
   "metadata": {},
   "outputs": [],
   "source": [
    "df['RNCID_3'] = scaler[10047*2:10047*3]"
   ]
  },
  {
   "cell_type": "code",
   "execution_count": 13,
   "metadata": {},
   "outputs": [],
   "source": [
    "df['RNCID_4'] = scaler[10047*3:10047*4]"
   ]
  },
  {
   "cell_type": "code",
   "execution_count": 14,
   "metadata": {},
   "outputs": [],
   "source": [
    "df['RNCID_5'] = scaler[10047*4:10047*5]"
   ]
  },
  {
   "cell_type": "code",
   "execution_count": 15,
   "metadata": {},
   "outputs": [],
   "source": [
    "df['RNCID_6'] = scaler[10047*5:10047*6]"
   ]
  },
  {
   "cell_type": "code",
   "execution_count": 16,
   "metadata": {},
   "outputs": [
    {
     "data": {
      "text/plain": [
       "array([0.60634322, 0.61902311, 0.61902311, ..., 0.5551795 , 0.5551795 ,\n",
       "       0.66154756])"
      ]
     },
     "execution_count": 16,
     "metadata": {},
     "output_type": "execute_result"
    }
   ],
   "source": [
    "scaler = minmax_scale(np.concatenate([data[:,5],data[:,10],data[:,15],data[:,20],data[:,25],data[:,30]]))\n",
    "scaler"
   ]
  },
  {
   "cell_type": "code",
   "execution_count": 17,
   "metadata": {},
   "outputs": [],
   "source": [
    "df['CellID_1'] = scaler[0:10047]"
   ]
  },
  {
   "cell_type": "code",
   "execution_count": 18,
   "metadata": {},
   "outputs": [],
   "source": [
    "df['CellID_2'] = scaler[10047:10047*2]"
   ]
  },
  {
   "cell_type": "code",
   "execution_count": 19,
   "metadata": {},
   "outputs": [],
   "source": [
    "df['CellID_3'] = scaler[10047*2:10047*3]"
   ]
  },
  {
   "cell_type": "code",
   "execution_count": 20,
   "metadata": {},
   "outputs": [],
   "source": [
    "df['CellID_4'] = scaler[10047*3:10047*4]"
   ]
  },
  {
   "cell_type": "code",
   "execution_count": 21,
   "metadata": {},
   "outputs": [],
   "source": [
    "df['CellID_5'] = scaler[10047*4:10047*5]"
   ]
  },
  {
   "cell_type": "code",
   "execution_count": 22,
   "metadata": {},
   "outputs": [],
   "source": [
    "df['CellID_6'] = scaler[10047*5:10047*6]"
   ]
  },
  {
   "cell_type": "code",
   "execution_count": 23,
   "metadata": {},
   "outputs": [
    {
     "data": {
      "text/plain": [
       "array([0.5483871 , 0.61290323, 0.61290323, ..., 0.83870968, 0.77419355,\n",
       "       0.87096774])"
      ]
     },
     "execution_count": 23,
     "metadata": {},
     "output_type": "execute_result"
    }
   ],
   "source": [
    "scaler = minmax_scale(np.concatenate([data[:,6],data[:,11],data[:,16],data[:,21],data[:,26],data[:,31]]))\n",
    "scaler"
   ]
  },
  {
   "cell_type": "code",
   "execution_count": 24,
   "metadata": {},
   "outputs": [],
   "source": [
    "df['Dbm_1'] = scaler[0:10047]"
   ]
  },
  {
   "cell_type": "code",
   "execution_count": 25,
   "metadata": {},
   "outputs": [],
   "source": [
    "df['Dbm_2'] = scaler[10047:10047*2]"
   ]
  },
  {
   "cell_type": "code",
   "execution_count": 26,
   "metadata": {},
   "outputs": [],
   "source": [
    "df['Dbm_3'] = scaler[10047*2:10047*3]"
   ]
  },
  {
   "cell_type": "code",
   "execution_count": 27,
   "metadata": {},
   "outputs": [],
   "source": [
    "df['Dbm_4'] = scaler[10047*3:10047*4]"
   ]
  },
  {
   "cell_type": "code",
   "execution_count": 28,
   "metadata": {},
   "outputs": [],
   "source": [
    "df['Dbm_5'] = scaler[10047*4:10047*5]"
   ]
  },
  {
   "cell_type": "code",
   "execution_count": 29,
   "metadata": {},
   "outputs": [],
   "source": [
    "df['Dbm_6'] = scaler[10047*5:10047*6]"
   ]
  },
  {
   "cell_type": "code",
   "execution_count": 30,
   "metadata": {},
   "outputs": [
    {
     "data": {
      "text/plain": [
       "array([0.5483871 , 0.61290323, 0.61290323, ..., 0.83870968, 0.77419355,\n",
       "       0.87096774])"
      ]
     },
     "execution_count": 30,
     "metadata": {},
     "output_type": "execute_result"
    }
   ],
   "source": [
    "scaler = minmax_scale(np.concatenate([data[:,7],data[:,12],data[:,17],data[:,22],data[:,27],data[:,32]]))\n",
    "scaler"
   ]
  },
  {
   "cell_type": "code",
   "execution_count": 31,
   "metadata": {},
   "outputs": [],
   "source": [
    "df['AsuLevel_1'] = scaler[0:10047]\n",
    "df['AsuLevel_2'] = scaler[10047:10047*2]\n",
    "df['AsuLevel_3'] = scaler[10047*2:10047*3]\n",
    "df['AsuLevel_4'] = scaler[10047*3:10047*4]\n",
    "df['AsuLevel_5'] = scaler[10047*4:10047*5]\n",
    "df['AsuLevel_6'] = scaler[10047*5:10047*6]"
   ]
  },
  {
   "cell_type": "code",
   "execution_count": 32,
   "metadata": {},
   "outputs": [
    {
     "data": {
      "text/plain": [
       "array([1., 1., 1., ..., 1., 1., 1.])"
      ]
     },
     "execution_count": 32,
     "metadata": {},
     "output_type": "execute_result"
    }
   ],
   "source": [
    "scaler = minmax_scale(np.concatenate([data[:,8],data[:,13],data[:,18],data[:,23],data[:,28],data[:,33]]))\n",
    "scaler"
   ]
  },
  {
   "cell_type": "code",
   "execution_count": 33,
   "metadata": {},
   "outputs": [],
   "source": [
    "df['SignalLevel_1'] = scaler[0:10047]\n",
    "df['SignalLevel_2'] = scaler[10047:10047*2]\n",
    "df['SignalLevel_3'] = scaler[10047*2:10047*3]\n",
    "df['SignalLevel_4'] = scaler[10047*3:10047*4]\n",
    "df['SignalLevel_5'] = scaler[10047*4:10047*5]\n",
    "df['SignalLevel_6'] = scaler[10047*5:10047*6]"
   ]
  },
  {
   "cell_type": "code",
   "execution_count": 34,
   "metadata": {},
   "outputs": [
    {
     "data": {
      "text/html": [
       "<div>\n",
       "<style scoped>\n",
       "    .dataframe tbody tr th:only-of-type {\n",
       "        vertical-align: middle;\n",
       "    }\n",
       "\n",
       "    .dataframe tbody tr th {\n",
       "        vertical-align: top;\n",
       "    }\n",
       "\n",
       "    .dataframe thead th {\n",
       "        text-align: right;\n",
       "    }\n",
       "</style>\n",
       "<table border=\"1\" class=\"dataframe\">\n",
       "  <thead>\n",
       "    <tr style=\"text-align: right;\">\n",
       "      <th></th>\n",
       "      <th>TrajID</th>\n",
       "      <th>IMEI</th>\n",
       "      <th>IMSI</th>\n",
       "      <th>MRTime</th>\n",
       "      <th>RNCID_1</th>\n",
       "      <th>CellID_1</th>\n",
       "      <th>Dbm_1</th>\n",
       "      <th>AsuLevel_1</th>\n",
       "      <th>SignalLevel_1</th>\n",
       "      <th>RNCID_2</th>\n",
       "      <th>...</th>\n",
       "      <th>RNCID_6</th>\n",
       "      <th>CellID_6</th>\n",
       "      <th>Dbm_6</th>\n",
       "      <th>AsuLevel_6</th>\n",
       "      <th>SignalLevel_6</th>\n",
       "      <th>Longitude</th>\n",
       "      <th>Latitude</th>\n",
       "      <th>Altitude</th>\n",
       "      <th>Accuracy</th>\n",
       "      <th>Speed</th>\n",
       "    </tr>\n",
       "  </thead>\n",
       "  <tbody>\n",
       "    <tr>\n",
       "      <th>0</th>\n",
       "      <td>0.0</td>\n",
       "      <td>8.613740e+14</td>\n",
       "      <td>4.600128e+14</td>\n",
       "      <td>1.507627e+09</td>\n",
       "      <td>0.209082</td>\n",
       "      <td>0.606343</td>\n",
       "      <td>0.548387</td>\n",
       "      <td>0.548387</td>\n",
       "      <td>1.0</td>\n",
       "      <td>0.19083</td>\n",
       "      <td>...</td>\n",
       "      <td>0.243549</td>\n",
       "      <td>0.657076</td>\n",
       "      <td>0.419355</td>\n",
       "      <td>0.419355</td>\n",
       "      <td>1.0</td>\n",
       "      <td>121.213610</td>\n",
       "      <td>31.289266</td>\n",
       "      <td>23.0</td>\n",
       "      <td>3.0</td>\n",
       "      <td>0.68</td>\n",
       "    </tr>\n",
       "    <tr>\n",
       "      <th>1</th>\n",
       "      <td>0.0</td>\n",
       "      <td>8.613740e+14</td>\n",
       "      <td>4.600128e+14</td>\n",
       "      <td>1.507627e+09</td>\n",
       "      <td>0.221931</td>\n",
       "      <td>0.619023</td>\n",
       "      <td>0.612903</td>\n",
       "      <td>0.612903</td>\n",
       "      <td>1.0</td>\n",
       "      <td>0.19083</td>\n",
       "      <td>...</td>\n",
       "      <td>0.243549</td>\n",
       "      <td>0.657076</td>\n",
       "      <td>0.419355</td>\n",
       "      <td>0.419355</td>\n",
       "      <td>1.0</td>\n",
       "      <td>121.213575</td>\n",
       "      <td>31.289228</td>\n",
       "      <td>-7.0</td>\n",
       "      <td>8.0</td>\n",
       "      <td>0.00</td>\n",
       "    </tr>\n",
       "    <tr>\n",
       "      <th>2</th>\n",
       "      <td>0.0</td>\n",
       "      <td>8.613740e+14</td>\n",
       "      <td>4.600128e+14</td>\n",
       "      <td>1.507627e+09</td>\n",
       "      <td>0.221931</td>\n",
       "      <td>0.619023</td>\n",
       "      <td>0.612903</td>\n",
       "      <td>0.612903</td>\n",
       "      <td>1.0</td>\n",
       "      <td>0.19083</td>\n",
       "      <td>...</td>\n",
       "      <td>0.243549</td>\n",
       "      <td>0.657076</td>\n",
       "      <td>0.419355</td>\n",
       "      <td>0.419355</td>\n",
       "      <td>1.0</td>\n",
       "      <td>121.213583</td>\n",
       "      <td>31.289263</td>\n",
       "      <td>1.0</td>\n",
       "      <td>5.0</td>\n",
       "      <td>0.00</td>\n",
       "    </tr>\n",
       "    <tr>\n",
       "      <th>3</th>\n",
       "      <td>0.0</td>\n",
       "      <td>8.613740e+14</td>\n",
       "      <td>4.600128e+14</td>\n",
       "      <td>1.507627e+09</td>\n",
       "      <td>0.221931</td>\n",
       "      <td>0.619023</td>\n",
       "      <td>0.645161</td>\n",
       "      <td>0.645161</td>\n",
       "      <td>1.0</td>\n",
       "      <td>0.19083</td>\n",
       "      <td>...</td>\n",
       "      <td>0.243549</td>\n",
       "      <td>0.657076</td>\n",
       "      <td>0.451613</td>\n",
       "      <td>0.451613</td>\n",
       "      <td>1.0</td>\n",
       "      <td>121.213605</td>\n",
       "      <td>31.289285</td>\n",
       "      <td>-5.0</td>\n",
       "      <td>7.0</td>\n",
       "      <td>0.00</td>\n",
       "    </tr>\n",
       "    <tr>\n",
       "      <th>4</th>\n",
       "      <td>0.0</td>\n",
       "      <td>8.613740e+14</td>\n",
       "      <td>4.600128e+14</td>\n",
       "      <td>1.507627e+09</td>\n",
       "      <td>0.221931</td>\n",
       "      <td>0.619023</td>\n",
       "      <td>0.645161</td>\n",
       "      <td>0.645161</td>\n",
       "      <td>1.0</td>\n",
       "      <td>0.19083</td>\n",
       "      <td>...</td>\n",
       "      <td>0.243549</td>\n",
       "      <td>0.657076</td>\n",
       "      <td>0.483871</td>\n",
       "      <td>0.483871</td>\n",
       "      <td>1.0</td>\n",
       "      <td>121.213596</td>\n",
       "      <td>31.289288</td>\n",
       "      <td>-1.0</td>\n",
       "      <td>4.0</td>\n",
       "      <td>0.00</td>\n",
       "    </tr>\n",
       "  </tbody>\n",
       "</table>\n",
       "<p>5 rows × 39 columns</p>\n",
       "</div>"
      ],
      "text/plain": [
       "   TrajID          IMEI          IMSI        MRTime   RNCID_1  CellID_1  \\\n",
       "0     0.0  8.613740e+14  4.600128e+14  1.507627e+09  0.209082  0.606343   \n",
       "1     0.0  8.613740e+14  4.600128e+14  1.507627e+09  0.221931  0.619023   \n",
       "2     0.0  8.613740e+14  4.600128e+14  1.507627e+09  0.221931  0.619023   \n",
       "3     0.0  8.613740e+14  4.600128e+14  1.507627e+09  0.221931  0.619023   \n",
       "4     0.0  8.613740e+14  4.600128e+14  1.507627e+09  0.221931  0.619023   \n",
       "\n",
       "      Dbm_1  AsuLevel_1  SignalLevel_1  RNCID_2  ...   RNCID_6  CellID_6  \\\n",
       "0  0.548387    0.548387            1.0  0.19083  ...  0.243549  0.657076   \n",
       "1  0.612903    0.612903            1.0  0.19083  ...  0.243549  0.657076   \n",
       "2  0.612903    0.612903            1.0  0.19083  ...  0.243549  0.657076   \n",
       "3  0.645161    0.645161            1.0  0.19083  ...  0.243549  0.657076   \n",
       "4  0.645161    0.645161            1.0  0.19083  ...  0.243549  0.657076   \n",
       "\n",
       "      Dbm_6  AsuLevel_6  SignalLevel_6   Longitude   Latitude  Altitude  \\\n",
       "0  0.419355    0.419355            1.0  121.213610  31.289266      23.0   \n",
       "1  0.419355    0.419355            1.0  121.213575  31.289228      -7.0   \n",
       "2  0.419355    0.419355            1.0  121.213583  31.289263       1.0   \n",
       "3  0.451613    0.451613            1.0  121.213605  31.289285      -5.0   \n",
       "4  0.483871    0.483871            1.0  121.213596  31.289288      -1.0   \n",
       "\n",
       "   Accuracy  Speed  \n",
       "0       3.0   0.68  \n",
       "1       8.0   0.00  \n",
       "2       5.0   0.00  \n",
       "3       7.0   0.00  \n",
       "4       4.0   0.00  \n",
       "\n",
       "[5 rows x 39 columns]"
      ]
     },
     "execution_count": 34,
     "metadata": {},
     "output_type": "execute_result"
    }
   ],
   "source": [
    "df.head()"
   ]
  },
  {
   "cell_type": "code",
   "execution_count": 35,
   "metadata": {},
   "outputs": [],
   "source": [
    "df.to_csv('/Users/cbc/Project/Python/DAMCourse/Assignment3/hwphase2data_update/new_formatted_data2.csv', index=False)"
   ]
  },
  {
   "cell_type": "code",
   "execution_count": null,
   "metadata": {},
   "outputs": [],
   "source": []
  }
 ],
 "metadata": {
  "kernelspec": {
   "display_name": "Python 3",
   "language": "python",
   "name": "python3"
  },
  "language_info": {
   "codemirror_mode": {
    "name": "ipython",
    "version": 3
   },
   "file_extension": ".py",
   "mimetype": "text/x-python",
   "name": "python",
   "nbconvert_exporter": "python",
   "pygments_lexer": "ipython3",
   "version": "3.7.3"
  }
 },
 "nbformat": 4,
 "nbformat_minor": 2
}
