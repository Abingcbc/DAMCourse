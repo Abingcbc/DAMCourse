{
 "cells": [
  {
   "cell_type": "code",
   "execution_count": 1,
   "metadata": {},
   "outputs": [],
   "source": [
    "import pandas as pd\n",
    "import numpy as np"
   ]
  },
  {
   "cell_type": "code",
   "execution_count": 2,
   "metadata": {},
   "outputs": [],
   "source": [
    "df = pd.read_csv('/Users/cbc/Project/Python/DAMCourse/Assignment3/hwphase2data_update/new_formatted_data.csv')"
   ]
  },
  {
   "cell_type": "code",
   "execution_count": 3,
   "metadata": {},
   "outputs": [
    {
     "data": {
      "text/plain": [
       "array([4.60012797e+14, 4.60016292e+14, 4.60011671e+14, 4.60091042e+14])"
      ]
     },
     "execution_count": 3,
     "metadata": {},
     "output_type": "execute_result"
    }
   ],
   "source": [
    "df['IMSI'].unique()"
   ]
  },
  {
   "cell_type": "code",
   "execution_count": 5,
   "metadata": {},
   "outputs": [],
   "source": [
    "imsi1 = df[df['IMSI'] == 460012796993062.0]"
   ]
  },
  {
   "cell_type": "code",
   "execution_count": 8,
   "metadata": {},
   "outputs": [
    {
     "data": {
      "text/plain": [
       "1161"
      ]
     },
     "execution_count": 8,
     "metadata": {},
     "output_type": "execute_result"
    }
   ],
   "source": [
    "len(imsi1)"
   ]
  },
  {
   "cell_type": "code",
   "execution_count": 6,
   "metadata": {},
   "outputs": [
    {
     "data": {
      "text/plain": [
       "array([ 0.,  1.,  2.,  3.,  4.,  5.,  6.,  7.,  8., 10.])"
      ]
     },
     "execution_count": 6,
     "metadata": {},
     "output_type": "execute_result"
    }
   ],
   "source": [
    "imsi1['TrajID'].unique()"
   ]
  },
  {
   "cell_type": "code",
   "execution_count": 9,
   "metadata": {},
   "outputs": [
    {
     "name": "stdout",
     "output_type": "stream",
     "text": [
      "24\n",
      "120\n",
      "28\n",
      "36\n",
      "39\n",
      "22\n",
      "83\n",
      "300\n",
      "272\n"
     ]
    }
   ],
   "source": [
    "for i in range(9):\n",
    "    print(len(imsi1[imsi1['TrajID'] == i]))"
   ]
  },
  {
   "cell_type": "code",
   "execution_count": 10,
   "metadata": {},
   "outputs": [
    {
     "data": {
      "text/html": [
       "<div>\n",
       "<style scoped>\n",
       "    .dataframe tbody tr th:only-of-type {\n",
       "        vertical-align: middle;\n",
       "    }\n",
       "\n",
       "    .dataframe tbody tr th {\n",
       "        vertical-align: top;\n",
       "    }\n",
       "\n",
       "    .dataframe thead th {\n",
       "        text-align: right;\n",
       "    }\n",
       "</style>\n",
       "<table border=\"1\" class=\"dataframe\">\n",
       "  <thead>\n",
       "    <tr style=\"text-align: right;\">\n",
       "      <th></th>\n",
       "      <th>TrajID</th>\n",
       "      <th>IMEI</th>\n",
       "      <th>IMSI</th>\n",
       "      <th>MRTime</th>\n",
       "      <th>RNCID_1</th>\n",
       "      <th>CellID_1</th>\n",
       "      <th>Dbm_1</th>\n",
       "      <th>AsuLevel_1</th>\n",
       "      <th>SignalLevel_1</th>\n",
       "      <th>RNCID_2</th>\n",
       "      <th>...</th>\n",
       "      <th>RNCID_6</th>\n",
       "      <th>CellID_6</th>\n",
       "      <th>Dbm_6</th>\n",
       "      <th>AsuLevel_6</th>\n",
       "      <th>SignalLevel_6</th>\n",
       "      <th>Longitude</th>\n",
       "      <th>Latitude</th>\n",
       "      <th>Altitude</th>\n",
       "      <th>Accuracy</th>\n",
       "      <th>Speed</th>\n",
       "    </tr>\n",
       "  </thead>\n",
       "  <tbody>\n",
       "    <tr>\n",
       "      <th>0</th>\n",
       "      <td>0.0</td>\n",
       "      <td>8.613740e+14</td>\n",
       "      <td>4.600128e+14</td>\n",
       "      <td>1.507627e+09</td>\n",
       "      <td>0.209082</td>\n",
       "      <td>0.606343</td>\n",
       "      <td>0.548387</td>\n",
       "      <td>0.548387</td>\n",
       "      <td>1.0</td>\n",
       "      <td>0.19083</td>\n",
       "      <td>...</td>\n",
       "      <td>0.243549</td>\n",
       "      <td>0.657076</td>\n",
       "      <td>0.419355</td>\n",
       "      <td>0.419355</td>\n",
       "      <td>1.0</td>\n",
       "      <td>121.213610</td>\n",
       "      <td>31.289266</td>\n",
       "      <td>23.0</td>\n",
       "      <td>3.0</td>\n",
       "      <td>0.68</td>\n",
       "    </tr>\n",
       "    <tr>\n",
       "      <th>1</th>\n",
       "      <td>0.0</td>\n",
       "      <td>8.613740e+14</td>\n",
       "      <td>4.600128e+14</td>\n",
       "      <td>1.507627e+09</td>\n",
       "      <td>0.221931</td>\n",
       "      <td>0.619023</td>\n",
       "      <td>0.612903</td>\n",
       "      <td>0.612903</td>\n",
       "      <td>1.0</td>\n",
       "      <td>0.19083</td>\n",
       "      <td>...</td>\n",
       "      <td>0.243549</td>\n",
       "      <td>0.657076</td>\n",
       "      <td>0.419355</td>\n",
       "      <td>0.419355</td>\n",
       "      <td>1.0</td>\n",
       "      <td>121.213575</td>\n",
       "      <td>31.289228</td>\n",
       "      <td>-7.0</td>\n",
       "      <td>8.0</td>\n",
       "      <td>0.00</td>\n",
       "    </tr>\n",
       "    <tr>\n",
       "      <th>2</th>\n",
       "      <td>0.0</td>\n",
       "      <td>8.613740e+14</td>\n",
       "      <td>4.600128e+14</td>\n",
       "      <td>1.507627e+09</td>\n",
       "      <td>0.221931</td>\n",
       "      <td>0.619023</td>\n",
       "      <td>0.612903</td>\n",
       "      <td>0.612903</td>\n",
       "      <td>1.0</td>\n",
       "      <td>0.19083</td>\n",
       "      <td>...</td>\n",
       "      <td>0.243549</td>\n",
       "      <td>0.657076</td>\n",
       "      <td>0.419355</td>\n",
       "      <td>0.419355</td>\n",
       "      <td>1.0</td>\n",
       "      <td>121.213583</td>\n",
       "      <td>31.289263</td>\n",
       "      <td>1.0</td>\n",
       "      <td>5.0</td>\n",
       "      <td>0.00</td>\n",
       "    </tr>\n",
       "    <tr>\n",
       "      <th>3</th>\n",
       "      <td>0.0</td>\n",
       "      <td>8.613740e+14</td>\n",
       "      <td>4.600128e+14</td>\n",
       "      <td>1.507627e+09</td>\n",
       "      <td>0.221931</td>\n",
       "      <td>0.619023</td>\n",
       "      <td>0.645161</td>\n",
       "      <td>0.645161</td>\n",
       "      <td>1.0</td>\n",
       "      <td>0.19083</td>\n",
       "      <td>...</td>\n",
       "      <td>0.243549</td>\n",
       "      <td>0.657076</td>\n",
       "      <td>0.451613</td>\n",
       "      <td>0.451613</td>\n",
       "      <td>1.0</td>\n",
       "      <td>121.213605</td>\n",
       "      <td>31.289285</td>\n",
       "      <td>-5.0</td>\n",
       "      <td>7.0</td>\n",
       "      <td>0.00</td>\n",
       "    </tr>\n",
       "    <tr>\n",
       "      <th>4</th>\n",
       "      <td>0.0</td>\n",
       "      <td>8.613740e+14</td>\n",
       "      <td>4.600128e+14</td>\n",
       "      <td>1.507627e+09</td>\n",
       "      <td>0.221931</td>\n",
       "      <td>0.619023</td>\n",
       "      <td>0.645161</td>\n",
       "      <td>0.645161</td>\n",
       "      <td>1.0</td>\n",
       "      <td>0.19083</td>\n",
       "      <td>...</td>\n",
       "      <td>0.243549</td>\n",
       "      <td>0.657076</td>\n",
       "      <td>0.483871</td>\n",
       "      <td>0.483871</td>\n",
       "      <td>1.0</td>\n",
       "      <td>121.213596</td>\n",
       "      <td>31.289288</td>\n",
       "      <td>-1.0</td>\n",
       "      <td>4.0</td>\n",
       "      <td>0.00</td>\n",
       "    </tr>\n",
       "  </tbody>\n",
       "</table>\n",
       "<p>5 rows × 39 columns</p>\n",
       "</div>"
      ],
      "text/plain": [
       "   TrajID          IMEI          IMSI        MRTime   RNCID_1  CellID_1  \\\n",
       "0     0.0  8.613740e+14  4.600128e+14  1.507627e+09  0.209082  0.606343   \n",
       "1     0.0  8.613740e+14  4.600128e+14  1.507627e+09  0.221931  0.619023   \n",
       "2     0.0  8.613740e+14  4.600128e+14  1.507627e+09  0.221931  0.619023   \n",
       "3     0.0  8.613740e+14  4.600128e+14  1.507627e+09  0.221931  0.619023   \n",
       "4     0.0  8.613740e+14  4.600128e+14  1.507627e+09  0.221931  0.619023   \n",
       "\n",
       "      Dbm_1  AsuLevel_1  SignalLevel_1  RNCID_2  ...   RNCID_6  CellID_6  \\\n",
       "0  0.548387    0.548387            1.0  0.19083  ...  0.243549  0.657076   \n",
       "1  0.612903    0.612903            1.0  0.19083  ...  0.243549  0.657076   \n",
       "2  0.612903    0.612903            1.0  0.19083  ...  0.243549  0.657076   \n",
       "3  0.645161    0.645161            1.0  0.19083  ...  0.243549  0.657076   \n",
       "4  0.645161    0.645161            1.0  0.19083  ...  0.243549  0.657076   \n",
       "\n",
       "      Dbm_6  AsuLevel_6  SignalLevel_6   Longitude   Latitude  Altitude  \\\n",
       "0  0.419355    0.419355            1.0  121.213610  31.289266      23.0   \n",
       "1  0.419355    0.419355            1.0  121.213575  31.289228      -7.0   \n",
       "2  0.419355    0.419355            1.0  121.213583  31.289263       1.0   \n",
       "3  0.451613    0.451613            1.0  121.213605  31.289285      -5.0   \n",
       "4  0.483871    0.483871            1.0  121.213596  31.289288      -1.0   \n",
       "\n",
       "   Accuracy  Speed  \n",
       "0       3.0   0.68  \n",
       "1       8.0   0.00  \n",
       "2       5.0   0.00  \n",
       "3       7.0   0.00  \n",
       "4       4.0   0.00  \n",
       "\n",
       "[5 rows x 39 columns]"
      ]
     },
     "execution_count": 10,
     "metadata": {},
     "output_type": "execute_result"
    }
   ],
   "source": [
    "df.head()"
   ]
  },
  {
   "cell_type": "code",
   "execution_count": 15,
   "metadata": {},
   "outputs": [
    {
     "data": {
      "text/plain": [
       "0         True\n",
       "1         True\n",
       "2         True\n",
       "3         True\n",
       "4         True\n",
       "5         True\n",
       "6         True\n",
       "7         True\n",
       "8         True\n",
       "9         True\n",
       "10        True\n",
       "11        True\n",
       "12        True\n",
       "13        True\n",
       "14        True\n",
       "15        True\n",
       "16        True\n",
       "17        True\n",
       "18        True\n",
       "19        True\n",
       "20        True\n",
       "21        True\n",
       "22        True\n",
       "23        True\n",
       "24       False\n",
       "25       False\n",
       "26       False\n",
       "27       False\n",
       "28       False\n",
       "29       False\n",
       "         ...  \n",
       "10017    False\n",
       "10018    False\n",
       "10019    False\n",
       "10020    False\n",
       "10021    False\n",
       "10022    False\n",
       "10023    False\n",
       "10024    False\n",
       "10025    False\n",
       "10026    False\n",
       "10027    False\n",
       "10028    False\n",
       "10029    False\n",
       "10030    False\n",
       "10031    False\n",
       "10032    False\n",
       "10033    False\n",
       "10034    False\n",
       "10035    False\n",
       "10036    False\n",
       "10037    False\n",
       "10038    False\n",
       "10039    False\n",
       "10040    False\n",
       "10041    False\n",
       "10042    False\n",
       "10043    False\n",
       "10044    False\n",
       "10045    False\n",
       "10046    False\n",
       "Length: 10047, dtype: bool"
      ]
     },
     "execution_count": 15,
     "metadata": {},
     "output_type": "execute_result"
    }
   ],
   "source": [
    "(df['IMSI'] == 460012796993062.0) & (df['TrajID'] == 0)"
   ]
  },
  {
   "cell_type": "code",
   "execution_count": null,
   "metadata": {},
   "outputs": [],
   "source": []
  }
 ],
 "metadata": {
  "kernelspec": {
   "display_name": "Python 3",
   "language": "python",
   "name": "python3"
  },
  "language_info": {
   "codemirror_mode": {
    "name": "ipython",
    "version": 3
   },
   "file_extension": ".py",
   "mimetype": "text/x-python",
   "name": "python",
   "nbconvert_exporter": "python",
   "pygments_lexer": "ipython3",
   "version": "3.7.3"
  }
 },
 "nbformat": 4,
 "nbformat_minor": 2
}
